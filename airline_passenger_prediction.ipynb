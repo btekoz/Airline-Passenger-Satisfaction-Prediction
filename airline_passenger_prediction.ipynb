{
 "cells": [
  {
   "cell_type": "code",
   "execution_count": 1,
   "metadata": {},
   "outputs": [],
   "source": [
    "import seaborn as sns \n",
    "import pandas as pd\n",
    "import matplotlib.pyplot as plt\n",
    "from scipy.stats import chi2_contingency #chi square test\n",
    "import numpy as np\n",
    "from dython.nominal import associations # correlation calculation\n",
    "from sklearn import preprocessing\n",
    "from sklearn.preprocessing import StandardScaler\n",
    "from sklearn.linear_model import LogisticRegression\n",
    "from sklearn.ensemble import RandomForestClassifier\n",
    "from sklearn import svm\n",
    "from sklearn import model_selection\n",
    "from sklearn.metrics import accuracy_score"
   ]
  },
  {
   "cell_type": "code",
   "execution_count": 2,
   "metadata": {},
   "outputs": [],
   "source": [
    "train = pd.read_excel(r'd:\\Users\\begumtekoz\\Desktop\\train.xlsx')\n",
    "test=pd.read_excel(r'd:\\Users\\s-begumtekoz\\Desktop\\test.xlsx')"
   ]
  },
  {
   "cell_type": "code",
   "execution_count": 3,
   "metadata": {},
   "outputs": [
    {
     "data": {
      "text/html": [
       "<div>\n",
       "<style scoped>\n",
       "    .dataframe tbody tr th:only-of-type {\n",
       "        vertical-align: middle;\n",
       "    }\n",
       "\n",
       "    .dataframe tbody tr th {\n",
       "        vertical-align: top;\n",
       "    }\n",
       "\n",
       "    .dataframe thead th {\n",
       "        text-align: right;\n",
       "    }\n",
       "</style>\n",
       "<table border=\"1\" class=\"dataframe\">\n",
       "  <thead>\n",
       "    <tr style=\"text-align: right;\">\n",
       "      <th></th>\n",
       "      <th>Unnamed: 0</th>\n",
       "      <th>id</th>\n",
       "      <th>Gender</th>\n",
       "      <th>Customer Type</th>\n",
       "      <th>Age</th>\n",
       "      <th>Type of Travel</th>\n",
       "      <th>Class</th>\n",
       "      <th>Flight Distance</th>\n",
       "      <th>Inflight wifi service</th>\n",
       "      <th>Departure/Arrival time convenient</th>\n",
       "      <th>...</th>\n",
       "      <th>Inflight entertainment</th>\n",
       "      <th>On-board service</th>\n",
       "      <th>Leg room service</th>\n",
       "      <th>Baggage handling</th>\n",
       "      <th>Checkin service</th>\n",
       "      <th>Inflight service</th>\n",
       "      <th>Cleanliness</th>\n",
       "      <th>Departure Delay in Minutes</th>\n",
       "      <th>Arrival Delay in Minutes</th>\n",
       "      <th>satisfaction</th>\n",
       "    </tr>\n",
       "  </thead>\n",
       "  <tbody>\n",
       "    <tr>\n",
       "      <th>0</th>\n",
       "      <td>0</td>\n",
       "      <td>70172</td>\n",
       "      <td>Male</td>\n",
       "      <td>Loyal Customer</td>\n",
       "      <td>13</td>\n",
       "      <td>Personal Travel</td>\n",
       "      <td>Eco Plus</td>\n",
       "      <td>460</td>\n",
       "      <td>3</td>\n",
       "      <td>4</td>\n",
       "      <td>...</td>\n",
       "      <td>5</td>\n",
       "      <td>4</td>\n",
       "      <td>3</td>\n",
       "      <td>4</td>\n",
       "      <td>4</td>\n",
       "      <td>5</td>\n",
       "      <td>5</td>\n",
       "      <td>25</td>\n",
       "      <td>18.0</td>\n",
       "      <td>neutral or dissatisfied</td>\n",
       "    </tr>\n",
       "    <tr>\n",
       "      <th>1</th>\n",
       "      <td>1</td>\n",
       "      <td>5047</td>\n",
       "      <td>Male</td>\n",
       "      <td>disloyal Customer</td>\n",
       "      <td>25</td>\n",
       "      <td>Business travel</td>\n",
       "      <td>Business</td>\n",
       "      <td>235</td>\n",
       "      <td>3</td>\n",
       "      <td>2</td>\n",
       "      <td>...</td>\n",
       "      <td>1</td>\n",
       "      <td>1</td>\n",
       "      <td>5</td>\n",
       "      <td>3</td>\n",
       "      <td>1</td>\n",
       "      <td>4</td>\n",
       "      <td>1</td>\n",
       "      <td>1</td>\n",
       "      <td>6.0</td>\n",
       "      <td>neutral or dissatisfied</td>\n",
       "    </tr>\n",
       "    <tr>\n",
       "      <th>2</th>\n",
       "      <td>2</td>\n",
       "      <td>110028</td>\n",
       "      <td>Female</td>\n",
       "      <td>Loyal Customer</td>\n",
       "      <td>26</td>\n",
       "      <td>Business travel</td>\n",
       "      <td>Business</td>\n",
       "      <td>1142</td>\n",
       "      <td>2</td>\n",
       "      <td>2</td>\n",
       "      <td>...</td>\n",
       "      <td>5</td>\n",
       "      <td>4</td>\n",
       "      <td>3</td>\n",
       "      <td>4</td>\n",
       "      <td>4</td>\n",
       "      <td>4</td>\n",
       "      <td>5</td>\n",
       "      <td>0</td>\n",
       "      <td>0.0</td>\n",
       "      <td>satisfied</td>\n",
       "    </tr>\n",
       "    <tr>\n",
       "      <th>3</th>\n",
       "      <td>3</td>\n",
       "      <td>24026</td>\n",
       "      <td>Female</td>\n",
       "      <td>Loyal Customer</td>\n",
       "      <td>25</td>\n",
       "      <td>Business travel</td>\n",
       "      <td>Business</td>\n",
       "      <td>562</td>\n",
       "      <td>2</td>\n",
       "      <td>5</td>\n",
       "      <td>...</td>\n",
       "      <td>2</td>\n",
       "      <td>2</td>\n",
       "      <td>5</td>\n",
       "      <td>3</td>\n",
       "      <td>1</td>\n",
       "      <td>4</td>\n",
       "      <td>2</td>\n",
       "      <td>11</td>\n",
       "      <td>9.0</td>\n",
       "      <td>neutral or dissatisfied</td>\n",
       "    </tr>\n",
       "    <tr>\n",
       "      <th>4</th>\n",
       "      <td>4</td>\n",
       "      <td>119299</td>\n",
       "      <td>Male</td>\n",
       "      <td>Loyal Customer</td>\n",
       "      <td>61</td>\n",
       "      <td>Business travel</td>\n",
       "      <td>Business</td>\n",
       "      <td>214</td>\n",
       "      <td>3</td>\n",
       "      <td>3</td>\n",
       "      <td>...</td>\n",
       "      <td>3</td>\n",
       "      <td>3</td>\n",
       "      <td>4</td>\n",
       "      <td>4</td>\n",
       "      <td>3</td>\n",
       "      <td>3</td>\n",
       "      <td>3</td>\n",
       "      <td>0</td>\n",
       "      <td>0.0</td>\n",
       "      <td>satisfied</td>\n",
       "    </tr>\n",
       "  </tbody>\n",
       "</table>\n",
       "<p>5 rows × 25 columns</p>\n",
       "</div>"
      ],
      "text/plain": [
       "   Unnamed: 0      id  Gender      Customer Type  Age   Type of Travel  \\\n",
       "0           0   70172    Male     Loyal Customer   13  Personal Travel   \n",
       "1           1    5047    Male  disloyal Customer   25  Business travel   \n",
       "2           2  110028  Female     Loyal Customer   26  Business travel   \n",
       "3           3   24026  Female     Loyal Customer   25  Business travel   \n",
       "4           4  119299    Male     Loyal Customer   61  Business travel   \n",
       "\n",
       "      Class  Flight Distance  Inflight wifi service  \\\n",
       "0  Eco Plus              460                      3   \n",
       "1  Business              235                      3   \n",
       "2  Business             1142                      2   \n",
       "3  Business              562                      2   \n",
       "4  Business              214                      3   \n",
       "\n",
       "   Departure/Arrival time convenient  ...  Inflight entertainment  \\\n",
       "0                                  4  ...                       5   \n",
       "1                                  2  ...                       1   \n",
       "2                                  2  ...                       5   \n",
       "3                                  5  ...                       2   \n",
       "4                                  3  ...                       3   \n",
       "\n",
       "   On-board service  Leg room service  Baggage handling  Checkin service  \\\n",
       "0                 4                 3                 4                4   \n",
       "1                 1                 5                 3                1   \n",
       "2                 4                 3                 4                4   \n",
       "3                 2                 5                 3                1   \n",
       "4                 3                 4                 4                3   \n",
       "\n",
       "   Inflight service  Cleanliness  Departure Delay in Minutes  \\\n",
       "0                 5            5                          25   \n",
       "1                 4            1                           1   \n",
       "2                 4            5                           0   \n",
       "3                 4            2                          11   \n",
       "4                 3            3                           0   \n",
       "\n",
       "   Arrival Delay in Minutes             satisfaction  \n",
       "0                      18.0  neutral or dissatisfied  \n",
       "1                       6.0  neutral or dissatisfied  \n",
       "2                       0.0                satisfied  \n",
       "3                       9.0  neutral or dissatisfied  \n",
       "4                       0.0                satisfied  \n",
       "\n",
       "[5 rows x 25 columns]"
      ]
     },
     "execution_count": 3,
     "metadata": {},
     "output_type": "execute_result"
    }
   ],
   "source": [
    "train.head(5) #The first five observations of train dataset"
   ]
  },
  {
   "cell_type": "code",
   "execution_count": 4,
   "metadata": {},
   "outputs": [
    {
     "data": {
      "text/html": [
       "<div>\n",
       "<style scoped>\n",
       "    .dataframe tbody tr th:only-of-type {\n",
       "        vertical-align: middle;\n",
       "    }\n",
       "\n",
       "    .dataframe tbody tr th {\n",
       "        vertical-align: top;\n",
       "    }\n",
       "\n",
       "    .dataframe thead th {\n",
       "        text-align: right;\n",
       "    }\n",
       "</style>\n",
       "<table border=\"1\" class=\"dataframe\">\n",
       "  <thead>\n",
       "    <tr style=\"text-align: right;\">\n",
       "      <th></th>\n",
       "      <th>Unnamed: 0</th>\n",
       "      <th>id</th>\n",
       "      <th>Gender</th>\n",
       "      <th>Customer Type</th>\n",
       "      <th>Age</th>\n",
       "      <th>Type of Travel</th>\n",
       "      <th>Class</th>\n",
       "      <th>Flight Distance</th>\n",
       "      <th>Inflight wifi service</th>\n",
       "      <th>Departure/Arrival time convenient</th>\n",
       "      <th>...</th>\n",
       "      <th>Inflight entertainment</th>\n",
       "      <th>On-board service</th>\n",
       "      <th>Leg room service</th>\n",
       "      <th>Baggage handling</th>\n",
       "      <th>Checkin service</th>\n",
       "      <th>Inflight service</th>\n",
       "      <th>Cleanliness</th>\n",
       "      <th>Departure Delay in Minutes</th>\n",
       "      <th>Arrival Delay in Minutes</th>\n",
       "      <th>satisfaction</th>\n",
       "    </tr>\n",
       "  </thead>\n",
       "  <tbody>\n",
       "    <tr>\n",
       "      <th>0</th>\n",
       "      <td>0</td>\n",
       "      <td>19556</td>\n",
       "      <td>Female</td>\n",
       "      <td>Loyal Customer</td>\n",
       "      <td>52</td>\n",
       "      <td>Business travel</td>\n",
       "      <td>Eco</td>\n",
       "      <td>160</td>\n",
       "      <td>5</td>\n",
       "      <td>4</td>\n",
       "      <td>...</td>\n",
       "      <td>5</td>\n",
       "      <td>5</td>\n",
       "      <td>5</td>\n",
       "      <td>5</td>\n",
       "      <td>2</td>\n",
       "      <td>5</td>\n",
       "      <td>5</td>\n",
       "      <td>50</td>\n",
       "      <td>44.0</td>\n",
       "      <td>satisfied</td>\n",
       "    </tr>\n",
       "    <tr>\n",
       "      <th>1</th>\n",
       "      <td>1</td>\n",
       "      <td>90035</td>\n",
       "      <td>Female</td>\n",
       "      <td>Loyal Customer</td>\n",
       "      <td>36</td>\n",
       "      <td>Business travel</td>\n",
       "      <td>Business</td>\n",
       "      <td>2863</td>\n",
       "      <td>1</td>\n",
       "      <td>1</td>\n",
       "      <td>...</td>\n",
       "      <td>4</td>\n",
       "      <td>4</td>\n",
       "      <td>4</td>\n",
       "      <td>4</td>\n",
       "      <td>3</td>\n",
       "      <td>4</td>\n",
       "      <td>5</td>\n",
       "      <td>0</td>\n",
       "      <td>0.0</td>\n",
       "      <td>satisfied</td>\n",
       "    </tr>\n",
       "    <tr>\n",
       "      <th>2</th>\n",
       "      <td>2</td>\n",
       "      <td>12360</td>\n",
       "      <td>Male</td>\n",
       "      <td>disloyal Customer</td>\n",
       "      <td>20</td>\n",
       "      <td>Business travel</td>\n",
       "      <td>Eco</td>\n",
       "      <td>192</td>\n",
       "      <td>2</td>\n",
       "      <td>0</td>\n",
       "      <td>...</td>\n",
       "      <td>2</td>\n",
       "      <td>4</td>\n",
       "      <td>1</td>\n",
       "      <td>3</td>\n",
       "      <td>2</td>\n",
       "      <td>2</td>\n",
       "      <td>2</td>\n",
       "      <td>0</td>\n",
       "      <td>0.0</td>\n",
       "      <td>neutral or dissatisfied</td>\n",
       "    </tr>\n",
       "    <tr>\n",
       "      <th>3</th>\n",
       "      <td>3</td>\n",
       "      <td>77959</td>\n",
       "      <td>Male</td>\n",
       "      <td>Loyal Customer</td>\n",
       "      <td>44</td>\n",
       "      <td>Business travel</td>\n",
       "      <td>Business</td>\n",
       "      <td>3377</td>\n",
       "      <td>0</td>\n",
       "      <td>0</td>\n",
       "      <td>...</td>\n",
       "      <td>1</td>\n",
       "      <td>1</td>\n",
       "      <td>1</td>\n",
       "      <td>1</td>\n",
       "      <td>3</td>\n",
       "      <td>1</td>\n",
       "      <td>4</td>\n",
       "      <td>0</td>\n",
       "      <td>6.0</td>\n",
       "      <td>satisfied</td>\n",
       "    </tr>\n",
       "    <tr>\n",
       "      <th>4</th>\n",
       "      <td>4</td>\n",
       "      <td>36875</td>\n",
       "      <td>Female</td>\n",
       "      <td>Loyal Customer</td>\n",
       "      <td>49</td>\n",
       "      <td>Business travel</td>\n",
       "      <td>Eco</td>\n",
       "      <td>1182</td>\n",
       "      <td>2</td>\n",
       "      <td>3</td>\n",
       "      <td>...</td>\n",
       "      <td>2</td>\n",
       "      <td>2</td>\n",
       "      <td>2</td>\n",
       "      <td>2</td>\n",
       "      <td>4</td>\n",
       "      <td>2</td>\n",
       "      <td>4</td>\n",
       "      <td>0</td>\n",
       "      <td>20.0</td>\n",
       "      <td>satisfied</td>\n",
       "    </tr>\n",
       "  </tbody>\n",
       "</table>\n",
       "<p>5 rows × 25 columns</p>\n",
       "</div>"
      ],
      "text/plain": [
       "   Unnamed: 0     id  Gender      Customer Type  Age   Type of Travel  \\\n",
       "0           0  19556  Female     Loyal Customer   52  Business travel   \n",
       "1           1  90035  Female     Loyal Customer   36  Business travel   \n",
       "2           2  12360    Male  disloyal Customer   20  Business travel   \n",
       "3           3  77959    Male     Loyal Customer   44  Business travel   \n",
       "4           4  36875  Female     Loyal Customer   49  Business travel   \n",
       "\n",
       "      Class  Flight Distance  Inflight wifi service  \\\n",
       "0       Eco              160                      5   \n",
       "1  Business             2863                      1   \n",
       "2       Eco              192                      2   \n",
       "3  Business             3377                      0   \n",
       "4       Eco             1182                      2   \n",
       "\n",
       "   Departure/Arrival time convenient  ...  Inflight entertainment  \\\n",
       "0                                  4  ...                       5   \n",
       "1                                  1  ...                       4   \n",
       "2                                  0  ...                       2   \n",
       "3                                  0  ...                       1   \n",
       "4                                  3  ...                       2   \n",
       "\n",
       "   On-board service  Leg room service  Baggage handling  Checkin service  \\\n",
       "0                 5                 5                 5                2   \n",
       "1                 4                 4                 4                3   \n",
       "2                 4                 1                 3                2   \n",
       "3                 1                 1                 1                3   \n",
       "4                 2                 2                 2                4   \n",
       "\n",
       "   Inflight service  Cleanliness  Departure Delay in Minutes  \\\n",
       "0                 5            5                          50   \n",
       "1                 4            5                           0   \n",
       "2                 2            2                           0   \n",
       "3                 1            4                           0   \n",
       "4                 2            4                           0   \n",
       "\n",
       "   Arrival Delay in Minutes             satisfaction  \n",
       "0                      44.0                satisfied  \n",
       "1                       0.0                satisfied  \n",
       "2                       0.0  neutral or dissatisfied  \n",
       "3                       6.0                satisfied  \n",
       "4                      20.0                satisfied  \n",
       "\n",
       "[5 rows x 25 columns]"
      ]
     },
     "execution_count": 4,
     "metadata": {},
     "output_type": "execute_result"
    }
   ],
   "source": [
    "test.head(5) #The first five observations of test dataset"
   ]
  },
  {
   "cell_type": "markdown",
   "metadata": {},
   "source": [
    "## 1. Conduct Preliminary Analysis of Data"
   ]
  },
  {
   "cell_type": "code",
   "execution_count": 5,
   "metadata": {},
   "outputs": [
    {
     "name": "stdout",
     "output_type": "stream",
     "text": [
      "Training dataset has 103904 rows and 25 columns\n"
     ]
    }
   ],
   "source": [
    "print('Training dataset has {} rows and {} columns'.format(train.shape[0],train.shape[1]))"
   ]
  },
  {
   "cell_type": "code",
   "execution_count": 6,
   "metadata": {},
   "outputs": [
    {
     "name": "stdout",
     "output_type": "stream",
     "text": [
      "Test dataset has 25976 rows and 25 columns\n"
     ]
    }
   ],
   "source": [
    "print('Test dataset has {} rows and {} columns'.format(test.shape[0],test.shape[1]))"
   ]
  },
  {
   "cell_type": "code",
   "execution_count": 7,
   "metadata": {},
   "outputs": [
    {
     "name": "stdout",
     "output_type": "stream",
     "text": [
      "<class 'pandas.core.frame.DataFrame'>\n",
      "RangeIndex: 103904 entries, 0 to 103903\n",
      "Data columns (total 25 columns):\n",
      " #   Column                             Non-Null Count   Dtype  \n",
      "---  ------                             --------------   -----  \n",
      " 0   Unnamed: 0                         103904 non-null  int64  \n",
      " 1   id                                 103904 non-null  int64  \n",
      " 2   Gender                             103904 non-null  object \n",
      " 3   Customer Type                      103904 non-null  object \n",
      " 4   Age                                103904 non-null  int64  \n",
      " 5   Type of Travel                     103904 non-null  object \n",
      " 6   Class                              103904 non-null  object \n",
      " 7   Flight Distance                    103904 non-null  int64  \n",
      " 8   Inflight wifi service              103904 non-null  int64  \n",
      " 9   Departure/Arrival time convenient  103904 non-null  int64  \n",
      " 10  Ease of Online booking             103904 non-null  int64  \n",
      " 11  Gate location                      103904 non-null  int64  \n",
      " 12  Food and drink                     103904 non-null  int64  \n",
      " 13  Online boarding                    103904 non-null  int64  \n",
      " 14  Seat comfort                       103904 non-null  int64  \n",
      " 15  Inflight entertainment             103904 non-null  int64  \n",
      " 16  On-board service                   103904 non-null  int64  \n",
      " 17  Leg room service                   103904 non-null  int64  \n",
      " 18  Baggage handling                   103904 non-null  int64  \n",
      " 19  Checkin service                    103904 non-null  int64  \n",
      " 20  Inflight service                   103904 non-null  int64  \n",
      " 21  Cleanliness                        103904 non-null  int64  \n",
      " 22  Departure Delay in Minutes         103904 non-null  int64  \n",
      " 23  Arrival Delay in Minutes           103594 non-null  float64\n",
      " 24  satisfaction                       103904 non-null  object \n",
      "dtypes: float64(1), int64(19), object(5)\n",
      "memory usage: 19.8+ MB\n"
     ]
    }
   ],
   "source": [
    "train.info()"
   ]
  },
  {
   "cell_type": "code",
   "execution_count": 8,
   "metadata": {},
   "outputs": [
    {
     "name": "stdout",
     "output_type": "stream",
     "text": [
      "<class 'pandas.core.frame.DataFrame'>\n",
      "RangeIndex: 25976 entries, 0 to 25975\n",
      "Data columns (total 25 columns):\n",
      " #   Column                             Non-Null Count  Dtype  \n",
      "---  ------                             --------------  -----  \n",
      " 0   Unnamed: 0                         25976 non-null  int64  \n",
      " 1   id                                 25976 non-null  int64  \n",
      " 2   Gender                             25976 non-null  object \n",
      " 3   Customer Type                      25976 non-null  object \n",
      " 4   Age                                25976 non-null  int64  \n",
      " 5   Type of Travel                     25976 non-null  object \n",
      " 6   Class                              25976 non-null  object \n",
      " 7   Flight Distance                    25976 non-null  int64  \n",
      " 8   Inflight wifi service              25976 non-null  int64  \n",
      " 9   Departure/Arrival time convenient  25976 non-null  int64  \n",
      " 10  Ease of Online booking             25976 non-null  int64  \n",
      " 11  Gate location                      25976 non-null  int64  \n",
      " 12  Food and drink                     25976 non-null  int64  \n",
      " 13  Online boarding                    25976 non-null  int64  \n",
      " 14  Seat comfort                       25976 non-null  int64  \n",
      " 15  Inflight entertainment             25976 non-null  int64  \n",
      " 16  On-board service                   25976 non-null  int64  \n",
      " 17  Leg room service                   25976 non-null  int64  \n",
      " 18  Baggage handling                   25976 non-null  int64  \n",
      " 19  Checkin service                    25976 non-null  int64  \n",
      " 20  Inflight service                   25976 non-null  int64  \n",
      " 21  Cleanliness                        25976 non-null  int64  \n",
      " 22  Departure Delay in Minutes         25976 non-null  int64  \n",
      " 23  Arrival Delay in Minutes           25893 non-null  float64\n",
      " 24  satisfaction                       25976 non-null  object \n",
      "dtypes: float64(1), int64(19), object(5)\n",
      "memory usage: 5.0+ MB\n"
     ]
    }
   ],
   "source": [
    "test.info()"
   ]
  },
  {
   "cell_type": "markdown",
   "metadata": {},
   "source": [
    "Training dataset  of  Airline Passenger Satisfaction has  103904 rows and 25 columns and test dataset has 25976 rows and 25 columns. 25 columns comprise of 20 numerical variables and 5 categorical variables."
   ]
  },
  {
   "cell_type": "markdown",
   "metadata": {},
   "source": [
    "##  2. Identify Missing Values"
   ]
  },
  {
   "cell_type": "code",
   "execution_count": 9,
   "metadata": {},
   "outputs": [
    {
     "name": "stdout",
     "output_type": "stream",
     "text": [
      "total number of missing values in the entire DataFrame: 310\n"
     ]
    }
   ],
   "source": [
    "print(f\"total number of missing values in the entire DataFrame: {train.isnull().sum().sum()}\")"
   ]
  },
  {
   "cell_type": "markdown",
   "metadata": {},
   "source": [
    "There are 310 missing values in the training dataset and it belongs to the feature of Arrival Delay in minute. "
   ]
  },
  {
   "cell_type": "code",
   "execution_count": 10,
   "metadata": {},
   "outputs": [
    {
     "name": "stdout",
     "output_type": "stream",
     "text": [
      "total number of missing values by attribute:\n",
      "Unnamed: 0                             0\n",
      "id                                     0\n",
      "Gender                                 0\n",
      "Customer Type                          0\n",
      "Age                                    0\n",
      "Type of Travel                         0\n",
      "Class                                  0\n",
      "Flight Distance                        0\n",
      "Inflight wifi service                  0\n",
      "Departure/Arrival time convenient      0\n",
      "Ease of Online booking                 0\n",
      "Gate location                          0\n",
      "Food and drink                         0\n",
      "Online boarding                        0\n",
      "Seat comfort                           0\n",
      "Inflight entertainment                 0\n",
      "On-board service                       0\n",
      "Leg room service                       0\n",
      "Baggage handling                       0\n",
      "Checkin service                        0\n",
      "Inflight service                       0\n",
      "Cleanliness                            0\n",
      "Departure Delay in Minutes             0\n",
      "Arrival Delay in Minutes             310\n",
      "satisfaction                           0\n",
      "dtype: int64\n"
     ]
    }
   ],
   "source": [
    "print(f\"total number of missing values by attribute:\\n{train.isnull().sum()}\")"
   ]
  },
  {
   "cell_type": "code",
   "execution_count": 11,
   "metadata": {},
   "outputs": [
    {
     "name": "stdout",
     "output_type": "stream",
     "text": [
      "total number of missing values by attribute:\n",
      "Unnamed: 0                            0\n",
      "id                                    0\n",
      "Gender                                0\n",
      "Customer Type                         0\n",
      "Age                                   0\n",
      "Type of Travel                        0\n",
      "Class                                 0\n",
      "Flight Distance                       0\n",
      "Inflight wifi service                 0\n",
      "Departure/Arrival time convenient     0\n",
      "Ease of Online booking                0\n",
      "Gate location                         0\n",
      "Food and drink                        0\n",
      "Online boarding                       0\n",
      "Seat comfort                          0\n",
      "Inflight entertainment                0\n",
      "On-board service                      0\n",
      "Leg room service                      0\n",
      "Baggage handling                      0\n",
      "Checkin service                       0\n",
      "Inflight service                      0\n",
      "Cleanliness                           0\n",
      "Departure Delay in Minutes            0\n",
      "Arrival Delay in Minutes             83\n",
      "satisfaction                          0\n",
      "dtype: int64\n"
     ]
    }
   ],
   "source": [
    "print(f\"total number of missing values by attribute:\\n{test.isnull().sum()}\")"
   ]
  },
  {
   "cell_type": "markdown",
   "metadata": {},
   "source": [
    "There are 83 missing values in the test dataset and it belongs to the feature of Arrival Delay in minute. "
   ]
  },
  {
   "cell_type": "markdown",
   "metadata": {},
   "source": [
    "## 3. Explore data"
   ]
  },
  {
   "cell_type": "code",
   "execution_count": 12,
   "metadata": {},
   "outputs": [
    {
     "data": {
      "text/plain": [
       "Unnamed: 0                           103904\n",
       "id                                   103904\n",
       "Gender                                    2\n",
       "Customer Type                             2\n",
       "Age                                      75\n",
       "Type of Travel                            2\n",
       "Class                                     3\n",
       "Flight Distance                        3802\n",
       "Inflight wifi service                     6\n",
       "Departure/Arrival time convenient         6\n",
       "Ease of Online booking                    6\n",
       "Gate location                             6\n",
       "Food and drink                            6\n",
       "Online boarding                           6\n",
       "Seat comfort                              6\n",
       "Inflight entertainment                    6\n",
       "On-board service                          6\n",
       "Leg room service                          6\n",
       "Baggage handling                          5\n",
       "Checkin service                           6\n",
       "Inflight service                          6\n",
       "Cleanliness                               6\n",
       "Departure Delay in Minutes              446\n",
       "Arrival Delay in Minutes                455\n",
       "satisfaction                              2\n",
       "dtype: int64"
      ]
     },
     "execution_count": 12,
     "metadata": {},
     "output_type": "execute_result"
    }
   ],
   "source": [
    "train.nunique()"
   ]
  },
  {
   "cell_type": "code",
   "execution_count": 13,
   "metadata": {},
   "outputs": [
    {
     "data": {
      "text/plain": [
       "Unnamed: 0                           25976\n",
       "id                                   25976\n",
       "Gender                                   2\n",
       "Customer Type                            2\n",
       "Age                                     75\n",
       "Type of Travel                           2\n",
       "Class                                    3\n",
       "Flight Distance                       3281\n",
       "Inflight wifi service                    6\n",
       "Departure/Arrival time convenient        6\n",
       "Ease of Online booking                   6\n",
       "Gate location                            5\n",
       "Food and drink                           6\n",
       "Online boarding                          6\n",
       "Seat comfort                             5\n",
       "Inflight entertainment                   6\n",
       "On-board service                         6\n",
       "Leg room service                         6\n",
       "Baggage handling                         5\n",
       "Checkin service                          5\n",
       "Inflight service                         6\n",
       "Cleanliness                              6\n",
       "Departure Delay in Minutes             313\n",
       "Arrival Delay in Minutes               320\n",
       "satisfaction                             2\n",
       "dtype: int64"
      ]
     },
     "execution_count": 13,
     "metadata": {},
     "output_type": "execute_result"
    }
   ],
   "source": [
    "test.nunique()"
   ]
  },
  {
   "cell_type": "code",
   "execution_count": 14,
   "metadata": {},
   "outputs": [],
   "source": [
    "# Since the Unnamed:0 is index and the feature of id is unnecessary, these features are dropped.\n",
    "train=train.drop(columns=[\"id\",\"Unnamed: 0\"])\n",
    "test=test.drop(columns=[\"id\",\"Unnamed: 0\"])"
   ]
  },
  {
   "cell_type": "markdown",
   "metadata": {},
   "source": [
    "### Identify categorical columns "
   ]
  },
  {
   "cell_type": "markdown",
   "metadata": {},
   "source": [
    "According to the dataset, these features should be categoric; 'Inflight wifi service', 'Departure/Arrival time convenient', 'Ease of Online booking', 'Gate location', 'Food and drink', 'Online boarding', 'Seat comfort', 'Inflight entertainment', 'On-board service', 'Leg room service', 'Baggage handling', 'Checkin service', 'Inflight service', 'Cleanliness'"
   ]
  },
  {
   "cell_type": "code",
   "execution_count": 15,
   "metadata": {},
   "outputs": [],
   "source": [
    "categoric_columns = ['Inflight wifi service', 'Departure/Arrival time convenient', 'Ease of Online booking', 'Gate location', 'Food and drink', 'Online boarding', 'Seat comfort', 'Inflight entertainment', 'On-board service', 'Leg room service', 'Baggage handling', 'Checkin service', 'Inflight service', 'Cleanliness']\n",
    "train[categoric_columns] = train[categoric_columns].astype(object)\n",
    "test[categoric_columns] = test[categoric_columns].astype(object)"
   ]
  },
  {
   "cell_type": "code",
   "execution_count": 16,
   "metadata": {},
   "outputs": [
    {
     "name": "stdout",
     "output_type": "stream",
     "text": [
      "Names of categorical columns:  ['Gender', 'Customer Type', 'Type of Travel', 'Class', 'Inflight wifi service', 'Departure/Arrival time convenient', 'Ease of Online booking', 'Gate location', 'Food and drink', 'Online boarding', 'Seat comfort', 'Inflight entertainment', 'On-board service', 'Leg room service', 'Baggage handling', 'Checkin service', 'Inflight service', 'Cleanliness', 'satisfaction']\n"
     ]
    }
   ],
   "source": [
    "# train\n",
    "categorical_cols = [col for col in train.columns if train[col].dtype == \"object\"]\n",
    "print(\"Names of categorical columns: \", categorical_cols)"
   ]
  },
  {
   "cell_type": "code",
   "execution_count": 17,
   "metadata": {},
   "outputs": [
    {
     "data": {
      "text/html": [
       "<div>\n",
       "<style scoped>\n",
       "    .dataframe tbody tr th:only-of-type {\n",
       "        vertical-align: middle;\n",
       "    }\n",
       "\n",
       "    .dataframe tbody tr th {\n",
       "        vertical-align: top;\n",
       "    }\n",
       "\n",
       "    .dataframe thead th {\n",
       "        text-align: right;\n",
       "    }\n",
       "</style>\n",
       "<table border=\"1\" class=\"dataframe\">\n",
       "  <thead>\n",
       "    <tr style=\"text-align: right;\">\n",
       "      <th></th>\n",
       "      <th>Gender</th>\n",
       "      <th>Customer Type</th>\n",
       "      <th>Type of Travel</th>\n",
       "      <th>Class</th>\n",
       "      <th>Inflight wifi service</th>\n",
       "      <th>Departure/Arrival time convenient</th>\n",
       "      <th>Ease of Online booking</th>\n",
       "      <th>Gate location</th>\n",
       "      <th>Food and drink</th>\n",
       "      <th>Online boarding</th>\n",
       "      <th>Seat comfort</th>\n",
       "      <th>Inflight entertainment</th>\n",
       "      <th>On-board service</th>\n",
       "      <th>Leg room service</th>\n",
       "      <th>Baggage handling</th>\n",
       "      <th>Checkin service</th>\n",
       "      <th>Inflight service</th>\n",
       "      <th>Cleanliness</th>\n",
       "      <th>satisfaction</th>\n",
       "    </tr>\n",
       "  </thead>\n",
       "  <tbody>\n",
       "    <tr>\n",
       "      <th>count</th>\n",
       "      <td>103904</td>\n",
       "      <td>103904</td>\n",
       "      <td>103904</td>\n",
       "      <td>103904</td>\n",
       "      <td>103904</td>\n",
       "      <td>103904</td>\n",
       "      <td>103904</td>\n",
       "      <td>103904</td>\n",
       "      <td>103904</td>\n",
       "      <td>103904</td>\n",
       "      <td>103904</td>\n",
       "      <td>103904</td>\n",
       "      <td>103904</td>\n",
       "      <td>103904</td>\n",
       "      <td>103904</td>\n",
       "      <td>103904</td>\n",
       "      <td>103904</td>\n",
       "      <td>103904</td>\n",
       "      <td>103904</td>\n",
       "    </tr>\n",
       "    <tr>\n",
       "      <th>unique</th>\n",
       "      <td>2</td>\n",
       "      <td>2</td>\n",
       "      <td>2</td>\n",
       "      <td>3</td>\n",
       "      <td>6</td>\n",
       "      <td>6</td>\n",
       "      <td>6</td>\n",
       "      <td>6</td>\n",
       "      <td>6</td>\n",
       "      <td>6</td>\n",
       "      <td>6</td>\n",
       "      <td>6</td>\n",
       "      <td>6</td>\n",
       "      <td>6</td>\n",
       "      <td>5</td>\n",
       "      <td>6</td>\n",
       "      <td>6</td>\n",
       "      <td>6</td>\n",
       "      <td>2</td>\n",
       "    </tr>\n",
       "    <tr>\n",
       "      <th>top</th>\n",
       "      <td>Female</td>\n",
       "      <td>Loyal Customer</td>\n",
       "      <td>Business travel</td>\n",
       "      <td>Business</td>\n",
       "      <td>3</td>\n",
       "      <td>4</td>\n",
       "      <td>3</td>\n",
       "      <td>3</td>\n",
       "      <td>4</td>\n",
       "      <td>4</td>\n",
       "      <td>4</td>\n",
       "      <td>4</td>\n",
       "      <td>4</td>\n",
       "      <td>4</td>\n",
       "      <td>4</td>\n",
       "      <td>4</td>\n",
       "      <td>4</td>\n",
       "      <td>4</td>\n",
       "      <td>neutral or dissatisfied</td>\n",
       "    </tr>\n",
       "    <tr>\n",
       "      <th>freq</th>\n",
       "      <td>52727</td>\n",
       "      <td>84923</td>\n",
       "      <td>71655</td>\n",
       "      <td>49665</td>\n",
       "      <td>25868</td>\n",
       "      <td>25546</td>\n",
       "      <td>24449</td>\n",
       "      <td>28577</td>\n",
       "      <td>24359</td>\n",
       "      <td>30762</td>\n",
       "      <td>31765</td>\n",
       "      <td>29423</td>\n",
       "      <td>30867</td>\n",
       "      <td>28789</td>\n",
       "      <td>37383</td>\n",
       "      <td>29055</td>\n",
       "      <td>37945</td>\n",
       "      <td>27179</td>\n",
       "      <td>58879</td>\n",
       "    </tr>\n",
       "  </tbody>\n",
       "</table>\n",
       "</div>"
      ],
      "text/plain": [
       "        Gender   Customer Type   Type of Travel     Class  \\\n",
       "count   103904          103904           103904    103904   \n",
       "unique       2               2                2         3   \n",
       "top     Female  Loyal Customer  Business travel  Business   \n",
       "freq     52727           84923            71655     49665   \n",
       "\n",
       "        Inflight wifi service  Departure/Arrival time convenient  \\\n",
       "count                  103904                             103904   \n",
       "unique                      6                                  6   \n",
       "top                         3                                  4   \n",
       "freq                    25868                              25546   \n",
       "\n",
       "        Ease of Online booking  Gate location  Food and drink  \\\n",
       "count                   103904         103904          103904   \n",
       "unique                       6              6               6   \n",
       "top                          3              3               4   \n",
       "freq                     24449          28577           24359   \n",
       "\n",
       "        Online boarding  Seat comfort  Inflight entertainment  \\\n",
       "count            103904        103904                  103904   \n",
       "unique                6             6                       6   \n",
       "top                   4             4                       4   \n",
       "freq              30762         31765                   29423   \n",
       "\n",
       "        On-board service  Leg room service  Baggage handling  Checkin service  \\\n",
       "count             103904            103904            103904           103904   \n",
       "unique                 6                 6                 5                6   \n",
       "top                    4                 4                 4                4   \n",
       "freq               30867             28789             37383            29055   \n",
       "\n",
       "        Inflight service  Cleanliness             satisfaction  \n",
       "count             103904       103904                   103904  \n",
       "unique                 6            6                        2  \n",
       "top                    4            4  neutral or dissatisfied  \n",
       "freq               37945        27179                    58879  "
      ]
     },
     "execution_count": 17,
     "metadata": {},
     "output_type": "execute_result"
    }
   ],
   "source": [
    "# include only the categorical columns\n",
    "train.describe(exclude='number')\n",
    "train.describe(include='object')"
   ]
  },
  {
   "cell_type": "markdown",
   "metadata": {},
   "source": [
    "### Identify numerical columns "
   ]
  },
  {
   "cell_type": "code",
   "execution_count": 18,
   "metadata": {},
   "outputs": [
    {
     "data": {
      "text/html": [
       "<div>\n",
       "<style scoped>\n",
       "    .dataframe tbody tr th:only-of-type {\n",
       "        vertical-align: middle;\n",
       "    }\n",
       "\n",
       "    .dataframe tbody tr th {\n",
       "        vertical-align: top;\n",
       "    }\n",
       "\n",
       "    .dataframe thead th {\n",
       "        text-align: right;\n",
       "    }\n",
       "</style>\n",
       "<table border=\"1\" class=\"dataframe\">\n",
       "  <thead>\n",
       "    <tr style=\"text-align: right;\">\n",
       "      <th></th>\n",
       "      <th>Age</th>\n",
       "      <th>Flight Distance</th>\n",
       "      <th>Departure Delay in Minutes</th>\n",
       "      <th>Arrival Delay in Minutes</th>\n",
       "    </tr>\n",
       "  </thead>\n",
       "  <tbody>\n",
       "    <tr>\n",
       "      <th>count</th>\n",
       "      <td>103904.000000</td>\n",
       "      <td>103904.000000</td>\n",
       "      <td>103904.000000</td>\n",
       "      <td>103594.000000</td>\n",
       "    </tr>\n",
       "    <tr>\n",
       "      <th>mean</th>\n",
       "      <td>39.379706</td>\n",
       "      <td>1189.448375</td>\n",
       "      <td>14.815618</td>\n",
       "      <td>15.178678</td>\n",
       "    </tr>\n",
       "    <tr>\n",
       "      <th>std</th>\n",
       "      <td>15.114964</td>\n",
       "      <td>997.147281</td>\n",
       "      <td>38.230901</td>\n",
       "      <td>38.698682</td>\n",
       "    </tr>\n",
       "    <tr>\n",
       "      <th>min</th>\n",
       "      <td>7.000000</td>\n",
       "      <td>31.000000</td>\n",
       "      <td>0.000000</td>\n",
       "      <td>0.000000</td>\n",
       "    </tr>\n",
       "    <tr>\n",
       "      <th>25%</th>\n",
       "      <td>27.000000</td>\n",
       "      <td>414.000000</td>\n",
       "      <td>0.000000</td>\n",
       "      <td>0.000000</td>\n",
       "    </tr>\n",
       "    <tr>\n",
       "      <th>50%</th>\n",
       "      <td>40.000000</td>\n",
       "      <td>843.000000</td>\n",
       "      <td>0.000000</td>\n",
       "      <td>0.000000</td>\n",
       "    </tr>\n",
       "    <tr>\n",
       "      <th>75%</th>\n",
       "      <td>51.000000</td>\n",
       "      <td>1743.000000</td>\n",
       "      <td>12.000000</td>\n",
       "      <td>13.000000</td>\n",
       "    </tr>\n",
       "    <tr>\n",
       "      <th>max</th>\n",
       "      <td>85.000000</td>\n",
       "      <td>4983.000000</td>\n",
       "      <td>1592.000000</td>\n",
       "      <td>1584.000000</td>\n",
       "    </tr>\n",
       "  </tbody>\n",
       "</table>\n",
       "</div>"
      ],
      "text/plain": [
       "                 Age  Flight Distance  Departure Delay in Minutes  \\\n",
       "count  103904.000000    103904.000000               103904.000000   \n",
       "mean       39.379706      1189.448375                   14.815618   \n",
       "std        15.114964       997.147281                   38.230901   \n",
       "min         7.000000        31.000000                    0.000000   \n",
       "25%        27.000000       414.000000                    0.000000   \n",
       "50%        40.000000       843.000000                    0.000000   \n",
       "75%        51.000000      1743.000000                   12.000000   \n",
       "max        85.000000      4983.000000                 1592.000000   \n",
       "\n",
       "       Arrival Delay in Minutes  \n",
       "count             103594.000000  \n",
       "mean                  15.178678  \n",
       "std                   38.698682  \n",
       "min                    0.000000  \n",
       "25%                    0.000000  \n",
       "50%                    0.000000  \n",
       "75%                   13.000000  \n",
       "max                 1584.000000  "
      ]
     },
     "execution_count": 18,
     "metadata": {},
     "output_type": "execute_result"
    }
   ],
   "source": [
    "# include only the numerical columns\n",
    "train.describe(exclude='object')"
   ]
  },
  {
   "cell_type": "code",
   "execution_count": 19,
   "metadata": {},
   "outputs": [],
   "source": [
    "num_cols=['Age','Flight Distance','Departure Delay in Minutes','Arrival Delay in Minutes']"
   ]
  },
  {
   "cell_type": "code",
   "execution_count": 20,
   "metadata": {},
   "outputs": [
    {
     "data": {
      "image/png": "[encoded data removed]",
      "text/plain": [
       "<Figure size 576x576 with 4 Axes>"
      ]
     },
     "metadata": {
      "needs_background": "light"
     },
     "output_type": "display_data"
    }
   ],
   "source": [
    "train[num_cols].hist(figsize=(8,8))\n",
    "plt.show()"
   ]
  },
  {
   "cell_type": "markdown",
   "metadata": {},
   "source": [
    "## 4. Correlation"
   ]
  },
  {
   "cell_type": "markdown",
   "metadata": {},
   "source": [
    "### 4.1. Categorical Variables Correlation"
   ]
  },
  {
   "cell_type": "markdown",
   "metadata": {},
   "source": [
    "The Chi-square test of independence determines whether there is a statistically significant relationship between categorical variables.\n",
    " If the p-value of Chi-Square Test is less than the significance value (0.05), it can reject the null hypothesis.\n",
    "\n"
   ]
  },
  {
   "cell_type": "markdown",
   "metadata": {},
   "source": [
    "Null hypothesis: There are no relationships between the categorical variables. If you know the value of one variable, it does not help you predict the value of another variable."
   ]
  },
  {
   "cell_type": "markdown",
   "metadata": {},
   "source": [
    "Alternative hypothesis: There are relationships between the categorical variables. Knowing the value of one variable does help you predict the value of another variable."
   ]
  },
  {
   "cell_type": "markdown",
   "metadata": {},
   "source": [
    "After checking there is any correlation between the variables, the Cramer's V Coefficient is applied. It is interpreted as a measure of the relative (strength) of an association between two variables. The coefficient ranges from 0 to 1 (perfect association). In practice, you may find that a Cramer's V of .10 provides a good minimum threshold for suggesting there is a substantive relationship between two variables."
   ]
  },
  {
   "cell_type": "markdown",
   "metadata": {},
   "source": [
    "Describing Strength of Association \n",
    "\n",
    "' >.5                   high association\n",
    "\n",
    ".3 to .5             moderate association\n",
    "\n",
    ".1 to .3             low association\n",
    "\n",
    "0 to .1              little if any association"
   ]
  },
  {
   "cell_type": "markdown",
   "metadata": {},
   "source": [
    "#### Gender\n"
   ]
  },
  {
   "cell_type": "code",
   "execution_count": 21,
   "metadata": {},
   "outputs": [
    {
     "data": {
      "text/html": [
       "<div>\n",
       "<style scoped>\n",
       "    .dataframe tbody tr th:only-of-type {\n",
       "        vertical-align: middle;\n",
       "    }\n",
       "\n",
       "    .dataframe tbody tr th {\n",
       "        vertical-align: top;\n",
       "    }\n",
       "\n",
       "    .dataframe thead th {\n",
       "        text-align: right;\n",
       "    }\n",
       "</style>\n",
       "<table border=\"1\" class=\"dataframe\">\n",
       "  <thead>\n",
       "    <tr style=\"text-align: right;\">\n",
       "      <th>Gender</th>\n",
       "      <th>Female</th>\n",
       "      <th>Male</th>\n",
       "    </tr>\n",
       "    <tr>\n",
       "      <th>satisfaction</th>\n",
       "      <th></th>\n",
       "      <th></th>\n",
       "    </tr>\n",
       "  </thead>\n",
       "  <tbody>\n",
       "    <tr>\n",
       "      <th>neutral or dissatisfied</th>\n",
       "      <td>30193</td>\n",
       "      <td>28686</td>\n",
       "    </tr>\n",
       "    <tr>\n",
       "      <th>satisfied</th>\n",
       "      <td>22534</td>\n",
       "      <td>22491</td>\n",
       "    </tr>\n",
       "  </tbody>\n",
       "</table>\n",
       "</div>"
      ],
      "text/plain": [
       "Gender                   Female   Male\n",
       "satisfaction                          \n",
       "neutral or dissatisfied   30193  28686\n",
       "satisfied                 22534  22491"
      ]
     },
     "execution_count": 21,
     "metadata": {},
     "output_type": "execute_result"
    }
   ],
   "source": [
    "cr1 = pd.crosstab(train['satisfaction'], train['Gender']) # create a contingecy table\n",
    "cr1"
   ]
  },
  {
   "cell_type": "code",
   "execution_count": 22,
   "metadata": {},
   "outputs": [
    {
     "name": "stdout",
     "output_type": "stream",
     "text": [
      "p value of chi-square test:0.000\n"
     ]
    }
   ],
   "source": [
    "chi_square_stat, p_value, _, _ = chi2_contingency(cr1) # chi-square test\n",
    "print(f'p value of chi-square test:{p_value:.3f}')"
   ]
  },
  {
   "cell_type": "markdown",
   "metadata": {},
   "source": [
    "Since the p-value of chi-square test is equal to 0.012, we can reject the null hypothesis and conclude there is a relationship between gender and satisfaction."
   ]
  },
  {
   "cell_type": "markdown",
   "metadata": {},
   "source": [
    "Let's check how strong that relationship is using Cramer's V association. There is little if any association"
   ]
  },
  {
   "cell_type": "code",
   "execution_count": 23,
   "metadata": {},
   "outputs": [
    {
     "name": "stdout",
     "output_type": "stream",
     "text": [
      "Assosiation between Satisfaction and Gender is 0.012\n"
     ]
    }
   ],
   "source": [
    "correlation_matrix = associations(train, compute_only=True)[\"corr\"] # gives correlation between all variables in the dataset\n",
    "correlation = correlation_matrix.loc[['Gender']].drop('Gender', axis=1)['satisfaction'].values.item() # We extracted correlation between gender and satisfaction\n",
    "print(f'Assosiation between Satisfaction and Gender is {correlation:.3f}')"
   ]
  },
  {
   "cell_type": "code",
   "execution_count": 24,
   "metadata": {},
   "outputs": [
    {
     "data": {
      "text/plain": [
       "<Axes: xlabel='Gender', ylabel='count'>"
      ]
     },
     "execution_count": 24,
     "metadata": {},
     "output_type": "execute_result"
    },
    {
     "data": {
      "image/png": "[encoded data removed]",
      "text/plain": [
       "<Figure size 576x432 with 1 Axes>"
      ]
     },
     "metadata": {
      "needs_background": "light"
     },
     "output_type": "display_data"
    }
   ],
   "source": [
    "plt.figure(figsize=(8,6))\n",
    "sns.countplot(x='Gender', hue='satisfaction', data=train)"
   ]
  },
  {
   "cell_type": "markdown",
   "metadata": {},
   "source": [
    "#### Customer Type"
   ]
  },
  {
   "cell_type": "code",
   "execution_count": 25,
   "metadata": {},
   "outputs": [
    {
     "data": {
      "text/html": [
       "<div>\n",
       "<style scoped>\n",
       "    .dataframe tbody tr th:only-of-type {\n",
       "        vertical-align: middle;\n",
       "    }\n",
       "\n",
       "    .dataframe tbody tr th {\n",
       "        vertical-align: top;\n",
       "    }\n",
       "\n",
       "    .dataframe thead th {\n",
       "        text-align: right;\n",
       "    }\n",
       "</style>\n",
       "<table border=\"1\" class=\"dataframe\">\n",
       "  <thead>\n",
       "    <tr style=\"text-align: right;\">\n",
       "      <th>Customer Type</th>\n",
       "      <th>Loyal Customer</th>\n",
       "      <th>disloyal Customer</th>\n",
       "    </tr>\n",
       "    <tr>\n",
       "      <th>satisfaction</th>\n",
       "      <th></th>\n",
       "      <th></th>\n",
       "    </tr>\n",
       "  </thead>\n",
       "  <tbody>\n",
       "    <tr>\n",
       "      <th>neutral or dissatisfied</th>\n",
       "      <td>44390</td>\n",
       "      <td>14489</td>\n",
       "    </tr>\n",
       "    <tr>\n",
       "      <th>satisfied</th>\n",
       "      <td>40533</td>\n",
       "      <td>4492</td>\n",
       "    </tr>\n",
       "  </tbody>\n",
       "</table>\n",
       "</div>"
      ],
      "text/plain": [
       "Customer Type            Loyal Customer  disloyal Customer\n",
       "satisfaction                                              \n",
       "neutral or dissatisfied           44390              14489\n",
       "satisfied                         40533               4492"
      ]
     },
     "execution_count": 25,
     "metadata": {},
     "output_type": "execute_result"
    }
   ],
   "source": [
    "cr2 = pd.crosstab(train['satisfaction'], train['Customer Type']) # create a contingecy table\n",
    "cr2"
   ]
  },
  {
   "cell_type": "code",
   "execution_count": 26,
   "metadata": {},
   "outputs": [
    {
     "name": "stdout",
     "output_type": "stream",
     "text": [
      "p value of chi-square test:0.000\n"
     ]
    }
   ],
   "source": [
    "chi_square_stat, p_value, _, _ = chi2_contingency(cr2) # chi-square test\n",
    "print(f'p value of chi-square test:{p_value:.3f}')"
   ]
  },
  {
   "cell_type": "markdown",
   "metadata": {},
   "source": [
    "Since the p-value of chi-square test is equal to 0, we can reject the null hypothesis and conclude there is a relationship between customer type and satisfaction.Let's check how strong that relationship is using Cramer's V association. There is low association"
   ]
  },
  {
   "cell_type": "code",
   "execution_count": 27,
   "metadata": {},
   "outputs": [
    {
     "name": "stdout",
     "output_type": "stream",
     "text": [
      "Assosiation between Satisfaction and Customer Type is 0.188\n"
     ]
    }
   ],
   "source": [
    "correlation_matrix = associations(train, compute_only=True)[\"corr\"] # gives correlation between all variables in the dataset\n",
    "correlation = correlation_matrix.loc[['Customer Type']].drop('Customer Type', axis=1)['satisfaction'].values.item() # We extracted correlation between Customer Type and satisfaction\n",
    "print(f'Assosiation between Satisfaction and Customer Type is {correlation:.3f}')"
   ]
  },
  {
   "cell_type": "code",
   "execution_count": 28,
   "metadata": {},
   "outputs": [
    {
     "data": {
      "image/png": "[encoded data removed]",
      "text/plain": [
       "<Figure size 576x432 with 1 Axes>"
      ]
     },
     "metadata": {
      "needs_background": "light"
     },
     "output_type": "display_data"
    }
   ],
   "source": [
    "plt.figure(figsize=(8,6))\n",
    "sns.countplot(x='Customer Type', hue='satisfaction', data=train);"
   ]
  },
  {
   "cell_type": "markdown",
   "metadata": {},
   "source": [
    "#### Type of Travel"
   ]
  },
  {
   "cell_type": "code",
   "execution_count": 29,
   "metadata": {},
   "outputs": [
    {
     "data": {
      "text/html": [
       "<div>\n",
       "<style scoped>\n",
       "    .dataframe tbody tr th:only-of-type {\n",
       "        vertical-align: middle;\n",
       "    }\n",
       "\n",
       "    .dataframe tbody tr th {\n",
       "        vertical-align: top;\n",
       "    }\n",
       "\n",
       "    .dataframe thead th {\n",
       "        text-align: right;\n",
       "    }\n",
       "</style>\n",
       "<table border=\"1\" class=\"dataframe\">\n",
       "  <thead>\n",
       "    <tr style=\"text-align: right;\">\n",
       "      <th>Type of Travel</th>\n",
       "      <th>Business travel</th>\n",
       "      <th>Personal Travel</th>\n",
       "    </tr>\n",
       "    <tr>\n",
       "      <th>satisfaction</th>\n",
       "      <th></th>\n",
       "      <th></th>\n",
       "    </tr>\n",
       "  </thead>\n",
       "  <tbody>\n",
       "    <tr>\n",
       "      <th>neutral or dissatisfied</th>\n",
       "      <td>29909</td>\n",
       "      <td>28970</td>\n",
       "    </tr>\n",
       "    <tr>\n",
       "      <th>satisfied</th>\n",
       "      <td>41746</td>\n",
       "      <td>3279</td>\n",
       "    </tr>\n",
       "  </tbody>\n",
       "</table>\n",
       "</div>"
      ],
      "text/plain": [
       "Type of Travel           Business travel  Personal Travel\n",
       "satisfaction                                             \n",
       "neutral or dissatisfied            29909            28970\n",
       "satisfied                          41746             3279"
      ]
     },
     "execution_count": 29,
     "metadata": {},
     "output_type": "execute_result"
    }
   ],
   "source": [
    "cr3 = pd.crosstab(train['satisfaction'], train['Type of Travel']) # create a contingecy table\n",
    "cr3"
   ]
  },
  {
   "cell_type": "code",
   "execution_count": 30,
   "metadata": {},
   "outputs": [
    {
     "name": "stdout",
     "output_type": "stream",
     "text": [
      "p value of chi-square test:0.000\n"
     ]
    }
   ],
   "source": [
    "chi_square_stat, p_value, _, _ = chi2_contingency(cr3) # chi-square test\n",
    "print(f'p value of chi-square test:{p_value:.3f}')"
   ]
  },
  {
   "cell_type": "markdown",
   "metadata": {},
   "source": [
    "Since the p-value of chi-square test is equal to 0, we can reject the null hypothesis and conclude there is a relationship between type of travel and satisfaction. Ther is  moderate association between satisfaction and type of travel."
   ]
  },
  {
   "cell_type": "code",
   "execution_count": 31,
   "metadata": {},
   "outputs": [
    {
     "name": "stdout",
     "output_type": "stream",
     "text": [
      "Assosiation between Satisfaction and Type of Travel is 0.449\n"
     ]
    }
   ],
   "source": [
    "correlation_matrix = associations(train, compute_only=True)[\"corr\"] # gives correlation between all variables in the dataset\n",
    "correlation = correlation_matrix.loc[['Type of Travel']].drop('Type of Travel', axis=1)['satisfaction'].values.item() # We extracted correlation between Type of Travel and satisfaction\n",
    "print(f'Assosiation between Satisfaction and Type of Travel is {correlation:.3f}')"
   ]
  },
  {
   "cell_type": "code",
   "execution_count": 32,
   "metadata": {},
   "outputs": [
    {
     "data": {
      "image/png": "[encoded data removed]",
      "text/plain": [
       "<Figure size 576x432 with 1 Axes>"
      ]
     },
     "metadata": {
      "needs_background": "light"
     },
     "output_type": "display_data"
    }
   ],
   "source": [
    "plt.figure(figsize=(8,6))\n",
    "sns.countplot(x='Type of Travel', hue='satisfaction', data=train);"
   ]
  },
  {
   "cell_type": "markdown",
   "metadata": {},
   "source": [
    "#### Class"
   ]
  },
  {
   "cell_type": "code",
   "execution_count": 33,
   "metadata": {},
   "outputs": [
    {
     "data": {
      "text/html": [
       "<div>\n",
       "<style scoped>\n",
       "    .dataframe tbody tr th:only-of-type {\n",
       "        vertical-align: middle;\n",
       "    }\n",
       "\n",
       "    .dataframe tbody tr th {\n",
       "        vertical-align: top;\n",
       "    }\n",
       "\n",
       "    .dataframe thead th {\n",
       "        text-align: right;\n",
       "    }\n",
       "</style>\n",
       "<table border=\"1\" class=\"dataframe\">\n",
       "  <thead>\n",
       "    <tr style=\"text-align: right;\">\n",
       "      <th>Class</th>\n",
       "      <th>Business</th>\n",
       "      <th>Eco</th>\n",
       "      <th>Eco Plus</th>\n",
       "    </tr>\n",
       "    <tr>\n",
       "      <th>satisfaction</th>\n",
       "      <th></th>\n",
       "      <th></th>\n",
       "      <th></th>\n",
       "    </tr>\n",
       "  </thead>\n",
       "  <tbody>\n",
       "    <tr>\n",
       "      <th>neutral or dissatisfied</th>\n",
       "      <td>15185</td>\n",
       "      <td>38044</td>\n",
       "      <td>5650</td>\n",
       "    </tr>\n",
       "    <tr>\n",
       "      <th>satisfied</th>\n",
       "      <td>34480</td>\n",
       "      <td>8701</td>\n",
       "      <td>1844</td>\n",
       "    </tr>\n",
       "  </tbody>\n",
       "</table>\n",
       "</div>"
      ],
      "text/plain": [
       "Class                    Business    Eco  Eco Plus\n",
       "satisfaction                                      \n",
       "neutral or dissatisfied     15185  38044      5650\n",
       "satisfied                   34480   8701      1844"
      ]
     },
     "execution_count": 33,
     "metadata": {},
     "output_type": "execute_result"
    }
   ],
   "source": [
    "cr4 = pd.crosstab(train['satisfaction'], train['Class']) # create a contingecy table\n",
    "cr4"
   ]
  },
  {
   "cell_type": "code",
   "execution_count": 34,
   "metadata": {},
   "outputs": [
    {
     "name": "stdout",
     "output_type": "stream",
     "text": [
      "p value of chi-square test:0.000\n"
     ]
    }
   ],
   "source": [
    "chi_square_stat, p_value, _, _ = chi2_contingency(cr4) # chi-square test\n",
    "print(f'p value of chi-square test:{p_value:.3f}')"
   ]
  },
  {
   "cell_type": "markdown",
   "metadata": {},
   "source": [
    "Since the p-value of chi-square test is equal to 0, we can reject the null hypothesis and conclude there is a relationship between Class and satisfaction. There is high association between satisfaction and type of class."
   ]
  },
  {
   "cell_type": "code",
   "execution_count": 35,
   "metadata": {},
   "outputs": [
    {
     "name": "stdout",
     "output_type": "stream",
     "text": [
      "Assosiation between Satisfaction and Class is 0.505\n"
     ]
    }
   ],
   "source": [
    "correlation_matrix = associations(train, compute_only=True)[\"corr\"] # gives correlation between all variables in the dataset\n",
    "correlation = correlation_matrix.loc[['Class']].drop('Class', axis=1)['satisfaction'].values.item() # We extracted correlation between Class and satisfaction\n",
    "print(f'Assosiation between Satisfaction and Class is {correlation:.3f}')"
   ]
  },
  {
   "cell_type": "code",
   "execution_count": 36,
   "metadata": {},
   "outputs": [
    {
     "data": {
      "image/png": "[encoded data removed]",
      "text/plain": [
       "<Figure size 576x432 with 1 Axes>"
      ]
     },
     "metadata": {
      "needs_background": "light"
     },
     "output_type": "display_data"
    }
   ],
   "source": [
    "plt.figure(figsize=(8,6))\n",
    "sns.countplot(x='Class', hue='satisfaction', data=train);"
   ]
  },
  {
   "cell_type": "code",
   "execution_count": 37,
   "metadata": {},
   "outputs": [],
   "source": [
    "ncols = 2\n",
    "nrows = np.ceil(len(train.columns)/ncols).astype(int)"
   ]
  },
  {
   "cell_type": "code",
   "execution_count": 38,
   "metadata": {},
   "outputs": [
    {
     "data": {
      "image/png": "[encoded data removed]",
      "text/plain": [
       "<Figure size 864x2592 with 24 Axes>"
      ]
     },
     "metadata": {
      "needs_background": "light"
     },
     "output_type": "display_data"
    }
   ],
   "source": [
    "fig, axs = plt.subplots(ncols=ncols, nrows=nrows, figsize=(12,nrows*3))\n",
    "for c, ax in zip(train.columns, axs.flatten()):\n",
    "    if c in num_cols:\n",
    "        sns.boxplot(data=train, x=c, y=train['satisfaction'], ax=ax)\n",
    "    else:\n",
    "        sns.countplot(data=train, x=c, hue=train['satisfaction'], ax=ax)\n",
    "fig.suptitle('Distribution of variables grouped by the target variable', fontsize=20)\n",
    "plt.tight_layout(rect=[0, 0, 1, 0.98])"
   ]
  },
  {
   "cell_type": "markdown",
   "metadata": {},
   "source": [
    "### 5.1. Numerical Variables Correlation"
   ]
  },
  {
   "cell_type": "code",
   "execution_count": 39,
   "metadata": {},
   "outputs": [
    {
     "data": {
      "image/png": "[encoded data removed]",
      "text/plain": [
       "<Figure size 360x144 with 2 Axes>"
      ]
     },
     "metadata": {
      "needs_background": "light"
     },
     "output_type": "display_data"
    }
   ],
   "source": [
    "#correlation matrix\n",
    "corrmat = train.corr()\n",
    "f, ax = plt.subplots(figsize=(5, 2))\n",
    "sns.heatmap(corrmat, vmax=.8, annot=True);"
   ]
  },
  {
   "cell_type": "markdown",
   "metadata": {},
   "source": [
    "## 5.Data Preparation"
   ]
  },
  {
   "cell_type": "markdown",
   "metadata": {},
   "source": [
    "### 5.1. Missing Values"
   ]
  },
  {
   "cell_type": "markdown",
   "metadata": {},
   "source": [
    "The following columns are \"no use\" variables; they did not add values to the predictive model that I am going to build:\n",
    "Unnamed: 0, id are dropped. "
   ]
  },
  {
   "cell_type": "markdown",
   "metadata": {},
   "source": [
    "In the second part, we identified the missing values, the number of na values are 310 and 83 respectively for the 'Arrival Delay in Minutes' train and test datasets.To fill the NA values, "
   ]
  },
  {
   "cell_type": "code",
   "execution_count": 40,
   "metadata": {},
   "outputs": [
    {
     "data": {
      "text/plain": [
       "<Axes: xlabel='Arrival Delay in Minutes', ylabel='Density'>"
      ]
     },
     "execution_count": 40,
     "metadata": {},
     "output_type": "execute_result"
    },
    {
     "data": {
      "image/png": "[encoded data removed]",
      "text/plain": [
       "<Figure size 432x288 with 1 Axes>"
      ]
     },
     "metadata": {
      "needs_background": "light"
     },
     "output_type": "display_data"
    }
   ],
   "source": [
    "sns.kdeplot(train[\"Arrival Delay in Minutes\"])"
   ]
  },
  {
   "cell_type": "markdown",
   "metadata": {},
   "source": [
    "Since the Arrival Delay in Minute is highly skewed, the missing values are filled by using median."
   ]
  },
  {
   "cell_type": "code",
   "execution_count": 41,
   "metadata": {},
   "outputs": [],
   "source": [
    "arrival_median = train['Arrival Delay in Minutes'].median()\n",
    "train['Arrival Delay in Minutes'] = train['Arrival Delay in Minutes'].fillna(arrival_median)\n",
    "test['Arrival Delay in Minutes'] = test['Arrival Delay in Minutes'].fillna(arrival_median)"
   ]
  },
  {
   "cell_type": "markdown",
   "metadata": {},
   "source": [
    "### 5.2. Label Encoding "
   ]
  },
  {
   "cell_type": "code",
   "execution_count": 42,
   "metadata": {},
   "outputs": [
    {
     "data": {
      "text/html": [
       "<div>\n",
       "<style scoped>\n",
       "    .dataframe tbody tr th:only-of-type {\n",
       "        vertical-align: middle;\n",
       "    }\n",
       "\n",
       "    .dataframe tbody tr th {\n",
       "        vertical-align: top;\n",
       "    }\n",
       "\n",
       "    .dataframe thead th {\n",
       "        text-align: right;\n",
       "    }\n",
       "</style>\n",
       "<table border=\"1\" class=\"dataframe\">\n",
       "  <thead>\n",
       "    <tr style=\"text-align: right;\">\n",
       "      <th></th>\n",
       "      <th>Gender</th>\n",
       "      <th>Customer Type</th>\n",
       "      <th>Type of Travel</th>\n",
       "      <th>Class</th>\n",
       "      <th>Inflight wifi service</th>\n",
       "      <th>Departure/Arrival time convenient</th>\n",
       "      <th>Ease of Online booking</th>\n",
       "      <th>Gate location</th>\n",
       "      <th>Food and drink</th>\n",
       "      <th>Online boarding</th>\n",
       "      <th>Seat comfort</th>\n",
       "      <th>Inflight entertainment</th>\n",
       "      <th>On-board service</th>\n",
       "      <th>Leg room service</th>\n",
       "      <th>Baggage handling</th>\n",
       "      <th>Checkin service</th>\n",
       "      <th>Inflight service</th>\n",
       "      <th>Cleanliness</th>\n",
       "      <th>satisfaction</th>\n",
       "    </tr>\n",
       "  </thead>\n",
       "  <tbody>\n",
       "    <tr>\n",
       "      <th>0</th>\n",
       "      <td>Male</td>\n",
       "      <td>Loyal Customer</td>\n",
       "      <td>Personal Travel</td>\n",
       "      <td>Eco Plus</td>\n",
       "      <td>3</td>\n",
       "      <td>4</td>\n",
       "      <td>3</td>\n",
       "      <td>1</td>\n",
       "      <td>5</td>\n",
       "      <td>3</td>\n",
       "      <td>5</td>\n",
       "      <td>5</td>\n",
       "      <td>4</td>\n",
       "      <td>3</td>\n",
       "      <td>4</td>\n",
       "      <td>4</td>\n",
       "      <td>5</td>\n",
       "      <td>5</td>\n",
       "      <td>neutral or dissatisfied</td>\n",
       "    </tr>\n",
       "    <tr>\n",
       "      <th>1</th>\n",
       "      <td>Male</td>\n",
       "      <td>disloyal Customer</td>\n",
       "      <td>Business travel</td>\n",
       "      <td>Business</td>\n",
       "      <td>3</td>\n",
       "      <td>2</td>\n",
       "      <td>3</td>\n",
       "      <td>3</td>\n",
       "      <td>1</td>\n",
       "      <td>3</td>\n",
       "      <td>1</td>\n",
       "      <td>1</td>\n",
       "      <td>1</td>\n",
       "      <td>5</td>\n",
       "      <td>3</td>\n",
       "      <td>1</td>\n",
       "      <td>4</td>\n",
       "      <td>1</td>\n",
       "      <td>neutral or dissatisfied</td>\n",
       "    </tr>\n",
       "    <tr>\n",
       "      <th>2</th>\n",
       "      <td>Female</td>\n",
       "      <td>Loyal Customer</td>\n",
       "      <td>Business travel</td>\n",
       "      <td>Business</td>\n",
       "      <td>2</td>\n",
       "      <td>2</td>\n",
       "      <td>2</td>\n",
       "      <td>2</td>\n",
       "      <td>5</td>\n",
       "      <td>5</td>\n",
       "      <td>5</td>\n",
       "      <td>5</td>\n",
       "      <td>4</td>\n",
       "      <td>3</td>\n",
       "      <td>4</td>\n",
       "      <td>4</td>\n",
       "      <td>4</td>\n",
       "      <td>5</td>\n",
       "      <td>satisfied</td>\n",
       "    </tr>\n",
       "  </tbody>\n",
       "</table>\n",
       "</div>"
      ],
      "text/plain": [
       "   Gender      Customer Type   Type of Travel     Class Inflight wifi service  \\\n",
       "0    Male     Loyal Customer  Personal Travel  Eco Plus                     3   \n",
       "1    Male  disloyal Customer  Business travel  Business                     3   \n",
       "2  Female     Loyal Customer  Business travel  Business                     2   \n",
       "\n",
       "  Departure/Arrival time convenient Ease of Online booking Gate location  \\\n",
       "0                                 4                      3             1   \n",
       "1                                 2                      3             3   \n",
       "2                                 2                      2             2   \n",
       "\n",
       "  Food and drink Online boarding Seat comfort Inflight entertainment  \\\n",
       "0              5               3            5                      5   \n",
       "1              1               3            1                      1   \n",
       "2              5               5            5                      5   \n",
       "\n",
       "  On-board service Leg room service Baggage handling Checkin service  \\\n",
       "0                4                3                4               4   \n",
       "1                1                5                3               1   \n",
       "2                4                3                4               4   \n",
       "\n",
       "  Inflight service Cleanliness             satisfaction  \n",
       "0                5           5  neutral or dissatisfied  \n",
       "1                4           1  neutral or dissatisfied  \n",
       "2                4           5                satisfied  "
      ]
     },
     "execution_count": 42,
     "metadata": {},
     "output_type": "execute_result"
    }
   ],
   "source": [
    "train[categorical_cols].head(3)"
   ]
  },
  {
   "cell_type": "code",
   "execution_count": 43,
   "metadata": {},
   "outputs": [],
   "source": [
    "train['Gender'] = preprocessing.LabelEncoder().fit_transform(train['Gender'])#1-Male\n",
    "train['Customer Type'] = preprocessing.LabelEncoder().fit_transform(train['Customer Type'])#1-diloyal customer\n",
    "train['Type of Travel'] = preprocessing.LabelEncoder().fit_transform(train['Type of Travel'])#1-Personal Travel\n",
    "train['Class'] = preprocessing.LabelEncoder().fit_transform(train['Class'])#2-Eco Plus\t,0-Business\n",
    "train['satisfaction'] = preprocessing.LabelEncoder().fit_transform(train['satisfaction'])#1 satisfied\n"
   ]
  },
  {
   "cell_type": "code",
   "execution_count": 44,
   "metadata": {},
   "outputs": [
    {
     "data": {
      "text/html": [
       "<div>\n",
       "<style scoped>\n",
       "    .dataframe tbody tr th:only-of-type {\n",
       "        vertical-align: middle;\n",
       "    }\n",
       "\n",
       "    .dataframe tbody tr th {\n",
       "        vertical-align: top;\n",
       "    }\n",
       "\n",
       "    .dataframe thead th {\n",
       "        text-align: right;\n",
       "    }\n",
       "</style>\n",
       "<table border=\"1\" class=\"dataframe\">\n",
       "  <thead>\n",
       "    <tr style=\"text-align: right;\">\n",
       "      <th></th>\n",
       "      <th>Gender</th>\n",
       "      <th>Customer Type</th>\n",
       "      <th>Type of Travel</th>\n",
       "      <th>Class</th>\n",
       "      <th>Inflight wifi service</th>\n",
       "      <th>Departure/Arrival time convenient</th>\n",
       "      <th>Ease of Online booking</th>\n",
       "      <th>Gate location</th>\n",
       "      <th>Food and drink</th>\n",
       "      <th>Online boarding</th>\n",
       "      <th>Seat comfort</th>\n",
       "      <th>Inflight entertainment</th>\n",
       "      <th>On-board service</th>\n",
       "      <th>Leg room service</th>\n",
       "      <th>Baggage handling</th>\n",
       "      <th>Checkin service</th>\n",
       "      <th>Inflight service</th>\n",
       "      <th>Cleanliness</th>\n",
       "      <th>satisfaction</th>\n",
       "    </tr>\n",
       "  </thead>\n",
       "  <tbody>\n",
       "    <tr>\n",
       "      <th>0</th>\n",
       "      <td>1</td>\n",
       "      <td>0</td>\n",
       "      <td>1</td>\n",
       "      <td>2</td>\n",
       "      <td>3</td>\n",
       "      <td>4</td>\n",
       "      <td>3</td>\n",
       "      <td>1</td>\n",
       "      <td>5</td>\n",
       "      <td>3</td>\n",
       "      <td>5</td>\n",
       "      <td>5</td>\n",
       "      <td>4</td>\n",
       "      <td>3</td>\n",
       "      <td>4</td>\n",
       "      <td>4</td>\n",
       "      <td>5</td>\n",
       "      <td>5</td>\n",
       "      <td>0</td>\n",
       "    </tr>\n",
       "    <tr>\n",
       "      <th>1</th>\n",
       "      <td>1</td>\n",
       "      <td>1</td>\n",
       "      <td>0</td>\n",
       "      <td>0</td>\n",
       "      <td>3</td>\n",
       "      <td>2</td>\n",
       "      <td>3</td>\n",
       "      <td>3</td>\n",
       "      <td>1</td>\n",
       "      <td>3</td>\n",
       "      <td>1</td>\n",
       "      <td>1</td>\n",
       "      <td>1</td>\n",
       "      <td>5</td>\n",
       "      <td>3</td>\n",
       "      <td>1</td>\n",
       "      <td>4</td>\n",
       "      <td>1</td>\n",
       "      <td>0</td>\n",
       "    </tr>\n",
       "    <tr>\n",
       "      <th>2</th>\n",
       "      <td>0</td>\n",
       "      <td>0</td>\n",
       "      <td>0</td>\n",
       "      <td>0</td>\n",
       "      <td>2</td>\n",
       "      <td>2</td>\n",
       "      <td>2</td>\n",
       "      <td>2</td>\n",
       "      <td>5</td>\n",
       "      <td>5</td>\n",
       "      <td>5</td>\n",
       "      <td>5</td>\n",
       "      <td>4</td>\n",
       "      <td>3</td>\n",
       "      <td>4</td>\n",
       "      <td>4</td>\n",
       "      <td>4</td>\n",
       "      <td>5</td>\n",
       "      <td>1</td>\n",
       "    </tr>\n",
       "    <tr>\n",
       "      <th>3</th>\n",
       "      <td>0</td>\n",
       "      <td>0</td>\n",
       "      <td>0</td>\n",
       "      <td>0</td>\n",
       "      <td>2</td>\n",
       "      <td>5</td>\n",
       "      <td>5</td>\n",
       "      <td>5</td>\n",
       "      <td>2</td>\n",
       "      <td>2</td>\n",
       "      <td>2</td>\n",
       "      <td>2</td>\n",
       "      <td>2</td>\n",
       "      <td>5</td>\n",
       "      <td>3</td>\n",
       "      <td>1</td>\n",
       "      <td>4</td>\n",
       "      <td>2</td>\n",
       "      <td>0</td>\n",
       "    </tr>\n",
       "    <tr>\n",
       "      <th>4</th>\n",
       "      <td>1</td>\n",
       "      <td>0</td>\n",
       "      <td>0</td>\n",
       "      <td>0</td>\n",
       "      <td>3</td>\n",
       "      <td>3</td>\n",
       "      <td>3</td>\n",
       "      <td>3</td>\n",
       "      <td>4</td>\n",
       "      <td>5</td>\n",
       "      <td>5</td>\n",
       "      <td>3</td>\n",
       "      <td>3</td>\n",
       "      <td>4</td>\n",
       "      <td>4</td>\n",
       "      <td>3</td>\n",
       "      <td>3</td>\n",
       "      <td>3</td>\n",
       "      <td>1</td>\n",
       "    </tr>\n",
       "  </tbody>\n",
       "</table>\n",
       "</div>"
      ],
      "text/plain": [
       "   Gender  Customer Type  Type of Travel  Class Inflight wifi service  \\\n",
       "0       1              0               1      2                     3   \n",
       "1       1              1               0      0                     3   \n",
       "2       0              0               0      0                     2   \n",
       "3       0              0               0      0                     2   \n",
       "4       1              0               0      0                     3   \n",
       "\n",
       "  Departure/Arrival time convenient Ease of Online booking Gate location  \\\n",
       "0                                 4                      3             1   \n",
       "1                                 2                      3             3   \n",
       "2                                 2                      2             2   \n",
       "3                                 5                      5             5   \n",
       "4                                 3                      3             3   \n",
       "\n",
       "  Food and drink Online boarding Seat comfort Inflight entertainment  \\\n",
       "0              5               3            5                      5   \n",
       "1              1               3            1                      1   \n",
       "2              5               5            5                      5   \n",
       "3              2               2            2                      2   \n",
       "4              4               5            5                      3   \n",
       "\n",
       "  On-board service Leg room service Baggage handling Checkin service  \\\n",
       "0                4                3                4               4   \n",
       "1                1                5                3               1   \n",
       "2                4                3                4               4   \n",
       "3                2                5                3               1   \n",
       "4                3                4                4               3   \n",
       "\n",
       "  Inflight service Cleanliness  satisfaction  \n",
       "0                5           5             0  \n",
       "1                4           1             0  \n",
       "2                4           5             1  \n",
       "3                4           2             0  \n",
       "4                3           3             1  "
      ]
     },
     "execution_count": 44,
     "metadata": {},
     "output_type": "execute_result"
    }
   ],
   "source": [
    "train[categorical_cols].head(5)"
   ]
  },
  {
   "cell_type": "code",
   "execution_count": 45,
   "metadata": {},
   "outputs": [
    {
     "data": {
      "text/html": [
       "<div>\n",
       "<style scoped>\n",
       "    .dataframe tbody tr th:only-of-type {\n",
       "        vertical-align: middle;\n",
       "    }\n",
       "\n",
       "    .dataframe tbody tr th {\n",
       "        vertical-align: top;\n",
       "    }\n",
       "\n",
       "    .dataframe thead th {\n",
       "        text-align: right;\n",
       "    }\n",
       "</style>\n",
       "<table border=\"1\" class=\"dataframe\">\n",
       "  <thead>\n",
       "    <tr style=\"text-align: right;\">\n",
       "      <th></th>\n",
       "      <th>Gender</th>\n",
       "      <th>Customer Type</th>\n",
       "      <th>Type of Travel</th>\n",
       "      <th>Class</th>\n",
       "      <th>Inflight wifi service</th>\n",
       "      <th>Departure/Arrival time convenient</th>\n",
       "      <th>Ease of Online booking</th>\n",
       "      <th>Gate location</th>\n",
       "      <th>Food and drink</th>\n",
       "      <th>Online boarding</th>\n",
       "      <th>Seat comfort</th>\n",
       "      <th>Inflight entertainment</th>\n",
       "      <th>On-board service</th>\n",
       "      <th>Leg room service</th>\n",
       "      <th>Baggage handling</th>\n",
       "      <th>Checkin service</th>\n",
       "      <th>Inflight service</th>\n",
       "      <th>Cleanliness</th>\n",
       "      <th>satisfaction</th>\n",
       "    </tr>\n",
       "  </thead>\n",
       "  <tbody>\n",
       "    <tr>\n",
       "      <th>0</th>\n",
       "      <td>Female</td>\n",
       "      <td>Loyal Customer</td>\n",
       "      <td>Business travel</td>\n",
       "      <td>Eco</td>\n",
       "      <td>5</td>\n",
       "      <td>4</td>\n",
       "      <td>3</td>\n",
       "      <td>4</td>\n",
       "      <td>3</td>\n",
       "      <td>4</td>\n",
       "      <td>3</td>\n",
       "      <td>5</td>\n",
       "      <td>5</td>\n",
       "      <td>5</td>\n",
       "      <td>5</td>\n",
       "      <td>2</td>\n",
       "      <td>5</td>\n",
       "      <td>5</td>\n",
       "      <td>satisfied</td>\n",
       "    </tr>\n",
       "    <tr>\n",
       "      <th>1</th>\n",
       "      <td>Female</td>\n",
       "      <td>Loyal Customer</td>\n",
       "      <td>Business travel</td>\n",
       "      <td>Business</td>\n",
       "      <td>1</td>\n",
       "      <td>1</td>\n",
       "      <td>3</td>\n",
       "      <td>1</td>\n",
       "      <td>5</td>\n",
       "      <td>4</td>\n",
       "      <td>5</td>\n",
       "      <td>4</td>\n",
       "      <td>4</td>\n",
       "      <td>4</td>\n",
       "      <td>4</td>\n",
       "      <td>3</td>\n",
       "      <td>4</td>\n",
       "      <td>5</td>\n",
       "      <td>satisfied</td>\n",
       "    </tr>\n",
       "    <tr>\n",
       "      <th>2</th>\n",
       "      <td>Male</td>\n",
       "      <td>disloyal Customer</td>\n",
       "      <td>Business travel</td>\n",
       "      <td>Eco</td>\n",
       "      <td>2</td>\n",
       "      <td>0</td>\n",
       "      <td>2</td>\n",
       "      <td>4</td>\n",
       "      <td>2</td>\n",
       "      <td>2</td>\n",
       "      <td>2</td>\n",
       "      <td>2</td>\n",
       "      <td>4</td>\n",
       "      <td>1</td>\n",
       "      <td>3</td>\n",
       "      <td>2</td>\n",
       "      <td>2</td>\n",
       "      <td>2</td>\n",
       "      <td>neutral or dissatisfied</td>\n",
       "    </tr>\n",
       "  </tbody>\n",
       "</table>\n",
       "</div>"
      ],
      "text/plain": [
       "   Gender      Customer Type   Type of Travel     Class Inflight wifi service  \\\n",
       "0  Female     Loyal Customer  Business travel       Eco                     5   \n",
       "1  Female     Loyal Customer  Business travel  Business                     1   \n",
       "2    Male  disloyal Customer  Business travel       Eco                     2   \n",
       "\n",
       "  Departure/Arrival time convenient Ease of Online booking Gate location  \\\n",
       "0                                 4                      3             4   \n",
       "1                                 1                      3             1   \n",
       "2                                 0                      2             4   \n",
       "\n",
       "  Food and drink Online boarding Seat comfort Inflight entertainment  \\\n",
       "0              3               4            3                      5   \n",
       "1              5               4            5                      4   \n",
       "2              2               2            2                      2   \n",
       "\n",
       "  On-board service Leg room service Baggage handling Checkin service  \\\n",
       "0                5                5                5               2   \n",
       "1                4                4                4               3   \n",
       "2                4                1                3               2   \n",
       "\n",
       "  Inflight service Cleanliness             satisfaction  \n",
       "0                5           5                satisfied  \n",
       "1                4           5                satisfied  \n",
       "2                2           2  neutral or dissatisfied  "
      ]
     },
     "execution_count": 45,
     "metadata": {},
     "output_type": "execute_result"
    }
   ],
   "source": [
    "test[categorical_cols].head(3)"
   ]
  },
  {
   "cell_type": "code",
   "execution_count": 46,
   "metadata": {},
   "outputs": [],
   "source": [
    "test['Gender'] = preprocessing.LabelEncoder().fit_transform(test['Gender'])#1-Male\n",
    "test['Customer Type'] = preprocessing.LabelEncoder().fit_transform(test['Customer Type'])#1-diloyal customer\n",
    "test['Type of Travel'] = preprocessing.LabelEncoder().fit_transform(test['Type of Travel'])#1-Personal Travel\n",
    "test['Class'] = preprocessing.LabelEncoder().fit_transform(test['Class'])#2-Eco Plus\t,0-Business\n",
    "test['satisfaction'] = preprocessing.LabelEncoder().fit_transform(test['satisfaction'])#1 satisfied"
   ]
  },
  {
   "cell_type": "code",
   "execution_count": 47,
   "metadata": {},
   "outputs": [
    {
     "data": {
      "text/html": [
       "<div>\n",
       "<style scoped>\n",
       "    .dataframe tbody tr th:only-of-type {\n",
       "        vertical-align: middle;\n",
       "    }\n",
       "\n",
       "    .dataframe tbody tr th {\n",
       "        vertical-align: top;\n",
       "    }\n",
       "\n",
       "    .dataframe thead th {\n",
       "        text-align: right;\n",
       "    }\n",
       "</style>\n",
       "<table border=\"1\" class=\"dataframe\">\n",
       "  <thead>\n",
       "    <tr style=\"text-align: right;\">\n",
       "      <th></th>\n",
       "      <th>Gender</th>\n",
       "      <th>Customer Type</th>\n",
       "      <th>Type of Travel</th>\n",
       "      <th>Class</th>\n",
       "      <th>Inflight wifi service</th>\n",
       "      <th>Departure/Arrival time convenient</th>\n",
       "      <th>Ease of Online booking</th>\n",
       "      <th>Gate location</th>\n",
       "      <th>Food and drink</th>\n",
       "      <th>Online boarding</th>\n",
       "      <th>Seat comfort</th>\n",
       "      <th>Inflight entertainment</th>\n",
       "      <th>On-board service</th>\n",
       "      <th>Leg room service</th>\n",
       "      <th>Baggage handling</th>\n",
       "      <th>Checkin service</th>\n",
       "      <th>Inflight service</th>\n",
       "      <th>Cleanliness</th>\n",
       "      <th>satisfaction</th>\n",
       "    </tr>\n",
       "  </thead>\n",
       "  <tbody>\n",
       "    <tr>\n",
       "      <th>0</th>\n",
       "      <td>0</td>\n",
       "      <td>0</td>\n",
       "      <td>0</td>\n",
       "      <td>1</td>\n",
       "      <td>5</td>\n",
       "      <td>4</td>\n",
       "      <td>3</td>\n",
       "      <td>4</td>\n",
       "      <td>3</td>\n",
       "      <td>4</td>\n",
       "      <td>3</td>\n",
       "      <td>5</td>\n",
       "      <td>5</td>\n",
       "      <td>5</td>\n",
       "      <td>5</td>\n",
       "      <td>2</td>\n",
       "      <td>5</td>\n",
       "      <td>5</td>\n",
       "      <td>1</td>\n",
       "    </tr>\n",
       "    <tr>\n",
       "      <th>1</th>\n",
       "      <td>0</td>\n",
       "      <td>0</td>\n",
       "      <td>0</td>\n",
       "      <td>0</td>\n",
       "      <td>1</td>\n",
       "      <td>1</td>\n",
       "      <td>3</td>\n",
       "      <td>1</td>\n",
       "      <td>5</td>\n",
       "      <td>4</td>\n",
       "      <td>5</td>\n",
       "      <td>4</td>\n",
       "      <td>4</td>\n",
       "      <td>4</td>\n",
       "      <td>4</td>\n",
       "      <td>3</td>\n",
       "      <td>4</td>\n",
       "      <td>5</td>\n",
       "      <td>1</td>\n",
       "    </tr>\n",
       "    <tr>\n",
       "      <th>2</th>\n",
       "      <td>1</td>\n",
       "      <td>1</td>\n",
       "      <td>0</td>\n",
       "      <td>1</td>\n",
       "      <td>2</td>\n",
       "      <td>0</td>\n",
       "      <td>2</td>\n",
       "      <td>4</td>\n",
       "      <td>2</td>\n",
       "      <td>2</td>\n",
       "      <td>2</td>\n",
       "      <td>2</td>\n",
       "      <td>4</td>\n",
       "      <td>1</td>\n",
       "      <td>3</td>\n",
       "      <td>2</td>\n",
       "      <td>2</td>\n",
       "      <td>2</td>\n",
       "      <td>0</td>\n",
       "    </tr>\n",
       "  </tbody>\n",
       "</table>\n",
       "</div>"
      ],
      "text/plain": [
       "   Gender  Customer Type  Type of Travel  Class Inflight wifi service  \\\n",
       "0       0              0               0      1                     5   \n",
       "1       0              0               0      0                     1   \n",
       "2       1              1               0      1                     2   \n",
       "\n",
       "  Departure/Arrival time convenient Ease of Online booking Gate location  \\\n",
       "0                                 4                      3             4   \n",
       "1                                 1                      3             1   \n",
       "2                                 0                      2             4   \n",
       "\n",
       "  Food and drink Online boarding Seat comfort Inflight entertainment  \\\n",
       "0              3               4            3                      5   \n",
       "1              5               4            5                      4   \n",
       "2              2               2            2                      2   \n",
       "\n",
       "  On-board service Leg room service Baggage handling Checkin service  \\\n",
       "0                5                5                5               2   \n",
       "1                4                4                4               3   \n",
       "2                4                1                3               2   \n",
       "\n",
       "  Inflight service Cleanliness  satisfaction  \n",
       "0                5           5             1  \n",
       "1                4           5             1  \n",
       "2                2           2             0  "
      ]
     },
     "execution_count": 47,
     "metadata": {},
     "output_type": "execute_result"
    }
   ],
   "source": [
    "test[categorical_cols].head(3)"
   ]
  },
  {
   "cell_type": "markdown",
   "metadata": {},
   "source": [
    "### 6. Feature Selection"
   ]
  },
  {
   "cell_type": "markdown",
   "metadata": {},
   "source": [
    "### 7. Data Standardization"
   ]
  },
  {
   "cell_type": "code",
   "execution_count": 48,
   "metadata": {},
   "outputs": [],
   "source": [
    "X_train = train.drop('satisfaction', axis = 1)\n",
    "y_train = train.satisfaction\n",
    "\n",
    "X_test = test.drop('satisfaction', axis=1)\n",
    "y_test = test.satisfaction"
   ]
  },
  {
   "cell_type": "code",
   "execution_count": 49,
   "metadata": {},
   "outputs": [
    {
     "data": {
      "text/plain": [
       "array([0.00485137, 0.03514485, 0.03376439, 0.09711851, 0.09676658,\n",
       "       0.0362686 , 0.14324642, 0.0171362 , 0.0340293 , 0.0170427 ,\n",
       "       0.01182493, 0.18655339, 0.03925663, 0.0514634 , 0.0336198 ,\n",
       "       0.0386931 , 0.02676956, 0.02375652, 0.02375155, 0.0252977 ,\n",
       "       0.01118895, 0.01245554])"
      ]
     },
     "execution_count": 49,
     "metadata": {},
     "output_type": "execute_result"
    }
   ],
   "source": [
    "# Creating Random Forest (rf) model with default values\n",
    "rf = RandomForestClassifier()\n",
    "\n",
    "# Fitting model to train data\n",
    "rf.fit(X_train, y_train)\n",
    "\n",
    "# Obtaining feature importances\n",
    "rf.feature_importances_"
   ]
  },
  {
   "cell_type": "code",
   "execution_count": 50,
   "metadata": {},
   "outputs": [
    {
     "data": {
      "text/plain": [
       "array(['Gender', 'Customer Type', 'Age', 'Type of Travel', 'Class',\n",
       "       'Flight Distance', 'Inflight wifi service',\n",
       "       'Departure/Arrival time convenient', 'Ease of Online booking',\n",
       "       'Gate location', 'Food and drink', 'Online boarding',\n",
       "       'Seat comfort', 'Inflight entertainment', 'On-board service',\n",
       "       'Leg room service', 'Baggage handling', 'Checkin service',\n",
       "       'Inflight service', 'Cleanliness', 'Departure Delay in Minutes',\n",
       "       'Arrival Delay in Minutes'], dtype=object)"
      ]
     },
     "execution_count": 50,
     "metadata": {},
     "output_type": "execute_result"
    }
   ],
   "source": [
    "# Obtaining feature names\n",
    "rf.feature_names_in_"
   ]
  },
  {
   "cell_type": "code",
   "execution_count": 51,
   "metadata": {},
   "outputs": [
    {
     "data": {
      "text/html": [
       "<div>\n",
       "<style scoped>\n",
       "    .dataframe tbody tr th:only-of-type {\n",
       "        vertical-align: middle;\n",
       "    }\n",
       "\n",
       "    .dataframe tbody tr th {\n",
       "        vertical-align: top;\n",
       "    }\n",
       "\n",
       "    .dataframe thead th {\n",
       "        text-align: right;\n",
       "    }\n",
       "</style>\n",
       "<table border=\"1\" class=\"dataframe\">\n",
       "  <thead>\n",
       "    <tr style=\"text-align: right;\">\n",
       "      <th></th>\n",
       "      <th>feature_names</th>\n",
       "      <th>importances</th>\n",
       "    </tr>\n",
       "  </thead>\n",
       "  <tbody>\n",
       "    <tr>\n",
       "      <th>11</th>\n",
       "      <td>Online boarding</td>\n",
       "      <td>0.186553</td>\n",
       "    </tr>\n",
       "    <tr>\n",
       "      <th>6</th>\n",
       "      <td>Inflight wifi service</td>\n",
       "      <td>0.143246</td>\n",
       "    </tr>\n",
       "    <tr>\n",
       "      <th>3</th>\n",
       "      <td>Type of Travel</td>\n",
       "      <td>0.097119</td>\n",
       "    </tr>\n",
       "    <tr>\n",
       "      <th>4</th>\n",
       "      <td>Class</td>\n",
       "      <td>0.096767</td>\n",
       "    </tr>\n",
       "    <tr>\n",
       "      <th>13</th>\n",
       "      <td>Inflight entertainment</td>\n",
       "      <td>0.051463</td>\n",
       "    </tr>\n",
       "    <tr>\n",
       "      <th>12</th>\n",
       "      <td>Seat comfort</td>\n",
       "      <td>0.039257</td>\n",
       "    </tr>\n",
       "    <tr>\n",
       "      <th>15</th>\n",
       "      <td>Leg room service</td>\n",
       "      <td>0.038693</td>\n",
       "    </tr>\n",
       "    <tr>\n",
       "      <th>5</th>\n",
       "      <td>Flight Distance</td>\n",
       "      <td>0.036269</td>\n",
       "    </tr>\n",
       "    <tr>\n",
       "      <th>1</th>\n",
       "      <td>Customer Type</td>\n",
       "      <td>0.035145</td>\n",
       "    </tr>\n",
       "    <tr>\n",
       "      <th>8</th>\n",
       "      <td>Ease of Online booking</td>\n",
       "      <td>0.034029</td>\n",
       "    </tr>\n",
       "    <tr>\n",
       "      <th>2</th>\n",
       "      <td>Age</td>\n",
       "      <td>0.033764</td>\n",
       "    </tr>\n",
       "    <tr>\n",
       "      <th>14</th>\n",
       "      <td>On-board service</td>\n",
       "      <td>0.033620</td>\n",
       "    </tr>\n",
       "    <tr>\n",
       "      <th>16</th>\n",
       "      <td>Baggage handling</td>\n",
       "      <td>0.026770</td>\n",
       "    </tr>\n",
       "    <tr>\n",
       "      <th>19</th>\n",
       "      <td>Cleanliness</td>\n",
       "      <td>0.025298</td>\n",
       "    </tr>\n",
       "    <tr>\n",
       "      <th>17</th>\n",
       "      <td>Checkin service</td>\n",
       "      <td>0.023757</td>\n",
       "    </tr>\n",
       "    <tr>\n",
       "      <th>18</th>\n",
       "      <td>Inflight service</td>\n",
       "      <td>0.023752</td>\n",
       "    </tr>\n",
       "    <tr>\n",
       "      <th>7</th>\n",
       "      <td>Departure/Arrival time convenient</td>\n",
       "      <td>0.017136</td>\n",
       "    </tr>\n",
       "    <tr>\n",
       "      <th>9</th>\n",
       "      <td>Gate location</td>\n",
       "      <td>0.017043</td>\n",
       "    </tr>\n",
       "    <tr>\n",
       "      <th>21</th>\n",
       "      <td>Arrival Delay in Minutes</td>\n",
       "      <td>0.012456</td>\n",
       "    </tr>\n",
       "    <tr>\n",
       "      <th>10</th>\n",
       "      <td>Food and drink</td>\n",
       "      <td>0.011825</td>\n",
       "    </tr>\n",
       "    <tr>\n",
       "      <th>20</th>\n",
       "      <td>Departure Delay in Minutes</td>\n",
       "      <td>0.011189</td>\n",
       "    </tr>\n",
       "    <tr>\n",
       "      <th>0</th>\n",
       "      <td>Gender</td>\n",
       "      <td>0.004851</td>\n",
       "    </tr>\n",
       "  </tbody>\n",
       "</table>\n",
       "</div>"
      ],
      "text/plain": [
       "                        feature_names  importances\n",
       "11                    Online boarding     0.186553\n",
       "6               Inflight wifi service     0.143246\n",
       "3                      Type of Travel     0.097119\n",
       "4                               Class     0.096767\n",
       "13             Inflight entertainment     0.051463\n",
       "12                       Seat comfort     0.039257\n",
       "15                   Leg room service     0.038693\n",
       "5                     Flight Distance     0.036269\n",
       "1                       Customer Type     0.035145\n",
       "8              Ease of Online booking     0.034029\n",
       "2                                 Age     0.033764\n",
       "14                   On-board service     0.033620\n",
       "16                   Baggage handling     0.026770\n",
       "19                        Cleanliness     0.025298\n",
       "17                    Checkin service     0.023757\n",
       "18                   Inflight service     0.023752\n",
       "7   Departure/Arrival time convenient     0.017136\n",
       "9                       Gate location     0.017043\n",
       "21           Arrival Delay in Minutes     0.012456\n",
       "10                     Food and drink     0.011825\n",
       "20         Departure Delay in Minutes     0.011189\n",
       "0                              Gender     0.004851"
      ]
     },
     "execution_count": 51,
     "metadata": {},
     "output_type": "execute_result"
    }
   ],
   "source": [
    "# Creating importances_df dataframe\n",
    "importances_df = pd.DataFrame({\"feature_names\" : rf.feature_names_in_, \n",
    "                               \"importances\" : rf.feature_importances_})\n",
    "                             \n",
    "importances_df.sort_values(by=\"importances\", ascending=False)"
   ]
  },
  {
   "cell_type": "code",
   "execution_count": 52,
   "metadata": {},
   "outputs": [
    {
     "data": {
      "text/html": [
       "<div>\n",
       "<style scoped>\n",
       "    .dataframe tbody tr th:only-of-type {\n",
       "        vertical-align: middle;\n",
       "    }\n",
       "\n",
       "    .dataframe tbody tr th {\n",
       "        vertical-align: top;\n",
       "    }\n",
       "\n",
       "    .dataframe thead th {\n",
       "        text-align: right;\n",
       "    }\n",
       "</style>\n",
       "<table border=\"1\" class=\"dataframe\">\n",
       "  <thead>\n",
       "    <tr style=\"text-align: right;\">\n",
       "      <th></th>\n",
       "      <th>feature_names</th>\n",
       "      <th>importances</th>\n",
       "    </tr>\n",
       "  </thead>\n",
       "  <tbody>\n",
       "    <tr>\n",
       "      <th>11</th>\n",
       "      <td>Online boarding</td>\n",
       "      <td>0.186553</td>\n",
       "    </tr>\n",
       "    <tr>\n",
       "      <th>6</th>\n",
       "      <td>Inflight wifi service</td>\n",
       "      <td>0.143246</td>\n",
       "    </tr>\n",
       "    <tr>\n",
       "      <th>3</th>\n",
       "      <td>Type of Travel</td>\n",
       "      <td>0.097119</td>\n",
       "    </tr>\n",
       "    <tr>\n",
       "      <th>4</th>\n",
       "      <td>Class</td>\n",
       "      <td>0.096767</td>\n",
       "    </tr>\n",
       "    <tr>\n",
       "      <th>13</th>\n",
       "      <td>Inflight entertainment</td>\n",
       "      <td>0.051463</td>\n",
       "    </tr>\n",
       "    <tr>\n",
       "      <th>12</th>\n",
       "      <td>Seat comfort</td>\n",
       "      <td>0.039257</td>\n",
       "    </tr>\n",
       "    <tr>\n",
       "      <th>15</th>\n",
       "      <td>Leg room service</td>\n",
       "      <td>0.038693</td>\n",
       "    </tr>\n",
       "    <tr>\n",
       "      <th>5</th>\n",
       "      <td>Flight Distance</td>\n",
       "      <td>0.036269</td>\n",
       "    </tr>\n",
       "    <tr>\n",
       "      <th>1</th>\n",
       "      <td>Customer Type</td>\n",
       "      <td>0.035145</td>\n",
       "    </tr>\n",
       "    <tr>\n",
       "      <th>8</th>\n",
       "      <td>Ease of Online booking</td>\n",
       "      <td>0.034029</td>\n",
       "    </tr>\n",
       "    <tr>\n",
       "      <th>2</th>\n",
       "      <td>Age</td>\n",
       "      <td>0.033764</td>\n",
       "    </tr>\n",
       "    <tr>\n",
       "      <th>14</th>\n",
       "      <td>On-board service</td>\n",
       "      <td>0.033620</td>\n",
       "    </tr>\n",
       "    <tr>\n",
       "      <th>16</th>\n",
       "      <td>Baggage handling</td>\n",
       "      <td>0.026770</td>\n",
       "    </tr>\n",
       "    <tr>\n",
       "      <th>19</th>\n",
       "      <td>Cleanliness</td>\n",
       "      <td>0.025298</td>\n",
       "    </tr>\n",
       "    <tr>\n",
       "      <th>17</th>\n",
       "      <td>Checkin service</td>\n",
       "      <td>0.023757</td>\n",
       "    </tr>\n",
       "    <tr>\n",
       "      <th>18</th>\n",
       "      <td>Inflight service</td>\n",
       "      <td>0.023752</td>\n",
       "    </tr>\n",
       "    <tr>\n",
       "      <th>7</th>\n",
       "      <td>Departure/Arrival time convenient</td>\n",
       "      <td>0.017136</td>\n",
       "    </tr>\n",
       "    <tr>\n",
       "      <th>9</th>\n",
       "      <td>Gate location</td>\n",
       "      <td>0.017043</td>\n",
       "    </tr>\n",
       "    <tr>\n",
       "      <th>21</th>\n",
       "      <td>Arrival Delay in Minutes</td>\n",
       "      <td>0.012456</td>\n",
       "    </tr>\n",
       "    <tr>\n",
       "      <th>10</th>\n",
       "      <td>Food and drink</td>\n",
       "      <td>0.011825</td>\n",
       "    </tr>\n",
       "    <tr>\n",
       "      <th>20</th>\n",
       "      <td>Departure Delay in Minutes</td>\n",
       "      <td>0.011189</td>\n",
       "    </tr>\n",
       "    <tr>\n",
       "      <th>0</th>\n",
       "      <td>Gender</td>\n",
       "      <td>0.004851</td>\n",
       "    </tr>\n",
       "  </tbody>\n",
       "</table>\n",
       "</div>"
      ],
      "text/plain": [
       "                        feature_names  importances\n",
       "11                    Online boarding     0.186553\n",
       "6               Inflight wifi service     0.143246\n",
       "3                      Type of Travel     0.097119\n",
       "4                               Class     0.096767\n",
       "13             Inflight entertainment     0.051463\n",
       "12                       Seat comfort     0.039257\n",
       "15                   Leg room service     0.038693\n",
       "5                     Flight Distance     0.036269\n",
       "1                       Customer Type     0.035145\n",
       "8              Ease of Online booking     0.034029\n",
       "2                                 Age     0.033764\n",
       "14                   On-board service     0.033620\n",
       "16                   Baggage handling     0.026770\n",
       "19                        Cleanliness     0.025298\n",
       "17                    Checkin service     0.023757\n",
       "18                   Inflight service     0.023752\n",
       "7   Departure/Arrival time convenient     0.017136\n",
       "9                       Gate location     0.017043\n",
       "21           Arrival Delay in Minutes     0.012456\n",
       "10                     Food and drink     0.011825\n",
       "20         Departure Delay in Minutes     0.011189\n",
       "0                              Gender     0.004851"
      ]
     },
     "execution_count": 52,
     "metadata": {},
     "output_type": "execute_result"
    }
   ],
   "source": [
    "importances_df.sort_values(by=\"importances\", ascending=False)"
   ]
  },
  {
   "cell_type": "markdown",
   "metadata": {},
   "source": [
    "When the feature importance is lower than 0.020, they are dropped."
   ]
  },
  {
   "cell_type": "code",
   "execution_count": 53,
   "metadata": {},
   "outputs": [],
   "source": [
    "new_features=['Customer Type','Age','Type of Travel','Class','Flight Distance','Inflight wifi service','Ease of Online booking','Online boarding','Seat comfort','Inflight entertainment','On-board service','Leg room service','Baggage handling','Checkin service','Inflight service','Cleanliness']\n",
    "\n",
    "X_trainnew=X_train[new_features]\n",
    "X_testnew=X_test[new_features]"
   ]
  },
  {
   "cell_type": "code",
   "execution_count": 54,
   "metadata": {},
   "outputs": [
    {
     "data": {
      "text/html": [
       "<div>\n",
       "<style scoped>\n",
       "    .dataframe tbody tr th:only-of-type {\n",
       "        vertical-align: middle;\n",
       "    }\n",
       "\n",
       "    .dataframe tbody tr th {\n",
       "        vertical-align: top;\n",
       "    }\n",
       "\n",
       "    .dataframe thead th {\n",
       "        text-align: right;\n",
       "    }\n",
       "</style>\n",
       "<table border=\"1\" class=\"dataframe\">\n",
       "  <thead>\n",
       "    <tr style=\"text-align: right;\">\n",
       "      <th></th>\n",
       "      <th>Customer Type</th>\n",
       "      <th>Age</th>\n",
       "      <th>Type of Travel</th>\n",
       "      <th>Class</th>\n",
       "      <th>Flight Distance</th>\n",
       "      <th>Inflight wifi service</th>\n",
       "      <th>Ease of Online booking</th>\n",
       "      <th>Online boarding</th>\n",
       "      <th>Seat comfort</th>\n",
       "      <th>Inflight entertainment</th>\n",
       "      <th>On-board service</th>\n",
       "      <th>Leg room service</th>\n",
       "      <th>Baggage handling</th>\n",
       "      <th>Checkin service</th>\n",
       "      <th>Inflight service</th>\n",
       "      <th>Cleanliness</th>\n",
       "    </tr>\n",
       "  </thead>\n",
       "  <tbody>\n",
       "    <tr>\n",
       "      <th>0</th>\n",
       "      <td>0</td>\n",
       "      <td>13</td>\n",
       "      <td>1</td>\n",
       "      <td>2</td>\n",
       "      <td>460</td>\n",
       "      <td>3</td>\n",
       "      <td>3</td>\n",
       "      <td>3</td>\n",
       "      <td>5</td>\n",
       "      <td>5</td>\n",
       "      <td>4</td>\n",
       "      <td>3</td>\n",
       "      <td>4</td>\n",
       "      <td>4</td>\n",
       "      <td>5</td>\n",
       "      <td>5</td>\n",
       "    </tr>\n",
       "    <tr>\n",
       "      <th>1</th>\n",
       "      <td>1</td>\n",
       "      <td>25</td>\n",
       "      <td>0</td>\n",
       "      <td>0</td>\n",
       "      <td>235</td>\n",
       "      <td>3</td>\n",
       "      <td>3</td>\n",
       "      <td>3</td>\n",
       "      <td>1</td>\n",
       "      <td>1</td>\n",
       "      <td>1</td>\n",
       "      <td>5</td>\n",
       "      <td>3</td>\n",
       "      <td>1</td>\n",
       "      <td>4</td>\n",
       "      <td>1</td>\n",
       "    </tr>\n",
       "    <tr>\n",
       "      <th>2</th>\n",
       "      <td>0</td>\n",
       "      <td>26</td>\n",
       "      <td>0</td>\n",
       "      <td>0</td>\n",
       "      <td>1142</td>\n",
       "      <td>2</td>\n",
       "      <td>2</td>\n",
       "      <td>5</td>\n",
       "      <td>5</td>\n",
       "      <td>5</td>\n",
       "      <td>4</td>\n",
       "      <td>3</td>\n",
       "      <td>4</td>\n",
       "      <td>4</td>\n",
       "      <td>4</td>\n",
       "      <td>5</td>\n",
       "    </tr>\n",
       "  </tbody>\n",
       "</table>\n",
       "</div>"
      ],
      "text/plain": [
       "   Customer Type  Age  Type of Travel  Class  Flight Distance  \\\n",
       "0              0   13               1      2              460   \n",
       "1              1   25               0      0              235   \n",
       "2              0   26               0      0             1142   \n",
       "\n",
       "  Inflight wifi service Ease of Online booking Online boarding Seat comfort  \\\n",
       "0                     3                      3               3            5   \n",
       "1                     3                      3               3            1   \n",
       "2                     2                      2               5            5   \n",
       "\n",
       "  Inflight entertainment On-board service Leg room service Baggage handling  \\\n",
       "0                      5                4                3                4   \n",
       "1                      1                1                5                3   \n",
       "2                      5                4                3                4   \n",
       "\n",
       "  Checkin service Inflight service Cleanliness  \n",
       "0               4                5           5  \n",
       "1               1                4           1  \n",
       "2               4                4           5  "
      ]
     },
     "execution_count": 54,
     "metadata": {},
     "output_type": "execute_result"
    }
   ],
   "source": [
    "X_trainnew.head(3)"
   ]
  },
  {
   "cell_type": "code",
   "execution_count": 55,
   "metadata": {},
   "outputs": [],
   "source": [
    "# Data Standardization\n",
    "Scaler = StandardScaler()\n",
    "X_trainnew = Scaler.fit_transform(X_trainnew)\n",
    "X_testnew = Scaler.fit_transform(X_testnew)"
   ]
  },
  {
   "cell_type": "code",
   "execution_count": 56,
   "metadata": {
    "scrolled": false
   },
   "outputs": [
    {
     "name": "stdout",
     "output_type": "stream",
     "text": [
      "(103904, 16)\n",
      "(25976, 16)\n"
     ]
    }
   ],
   "source": [
    "print(X_trainnew.shape)\n",
    "print(X_testnew.shape)"
   ]
  },
  {
   "cell_type": "markdown",
   "metadata": {},
   "source": [
    "## MODEL BUILDING"
   ]
  },
  {
   "cell_type": "code",
   "execution_count": null,
   "metadata": {},
   "outputs": [],
   "source": [
    "%matplotlib inline\n",
    "from sklearn.model_selection import train_test_split\n",
    "from sklearn.metrics import mean_squared_error\n",
    "from sklearn.metrics import accuracy_score\n",
    "from sklearn.metrics import roc_auc_score\n",
    "from sklearn.metrics import roc_curve\n",
    "from sklearn.metrics import f1_score\n",
    "from sklearn.ensemble import RandomForestClassifier\n",
    "from sklearn.tree import DecisionTreeClassifier\n",
    "from sklearn import tree\n",
    "from sklearn.model_selection import GridSearchCV\n",
    "from sklearn import preprocessing"
   ]
  },
  {
   "cell_type": "markdown",
   "metadata": {},
   "source": [
    "I will build three different models - Random Forest, Logistic Regression and SVM for this classification problem."
   ]
  },
  {
   "cell_type": "code",
   "execution_count": 62,
   "metadata": {},
   "outputs": [
    {
     "name": "stdout",
     "output_type": "stream",
     "text": [
      "Testing model: Random Forest\n",
      "Cross_Val Mean: 0.9624045764516136, Training Accuracy: 1.0, Testing Accuracy: 0.9623883584847551, AUC : 0.960079050322568, F1 : 0.9564636157034 \n",
      "\n",
      "Testing model: Logistic Regression\n",
      "Cross_Val Mean: 0.8733390686734642, Training Accuracy: 0.8739317061903296, Testing Accuracy: 0.8698028949799815, AUC : 0.8656122190604525, F1 : 0.8486123545210386 \n",
      "\n",
      "Testing model: SVM\n",
      "Cross_Val Mean: 0.8748245382956442, Training Accuracy: 0.8753657222051124, Testing Accuracy: 0.870611333538651, AUC : 0.8652930783551135, F1 : 0.847925433238315 \n",
      "\n"
     ]
    }
   ],
   "source": [
    "models = [] # ML Models\n",
    "models.append((\"Random Forest\", RandomForestClassifier()))\n",
    "models.append((\"Logistic Regression\", LogisticRegression(solver='liblinear')))\n",
    "models.append((\"SVM\", svm.SVC(kernel='linear')))\n",
    "\n",
    "n_folds = 5\n",
    "results = []\n",
    "for name, model in models:\n",
    "    kfold = model_selection.KFold(n_splits=n_folds)\n",
    "    print(\"Testing model:\", name)\n",
    "    \n",
    "    # Cross Validation Score\n",
    "    cv_results = model_selection.cross_val_score(model, X_trainnew, y_train, cv=kfold, scoring=\"f1_weighted\", verbose=0, n_jobs=-1)\n",
    "    \n",
    "    # Fitting the Model\n",
    "    model.fit(X_trainnew,y_train)\n",
    "    \n",
    "    # Model Predictions and Finding Accuracy\n",
    "    train_pred = model.predict(X_trainnew)\n",
    "    Training_score = accuracy_score(train_pred,y_train)\n",
    "    test_pred = model.predict(X_testnew)\n",
    "    Test_score = accuracy_score(test_pred,y_test)\n",
    "    auc = roc_auc_score(y_test, test_pred)\n",
    "    f1 = f1_score(y_test, test_pred)\n",
    "    \n",
    "    results.append(cv_results)\n",
    "    \n",
    "    msg = f\"Cross_Val Mean: {cv_results.mean()}, Training Accuracy: {Training_score}, Testing Accuracy: {Test_score}, AUC : {auc}, F1 : {f1} \"\n",
    "    print(msg + \"\\n\")"
   ]
  },
  {
   "cell_type": "code",
   "execution_count": 63,
   "metadata": {},
   "outputs": [],
   "source": [
    "# Data Standardization\n",
    "Scaler = StandardScaler()\n",
    "X_trains = Scaler.fit_transform(X_train)\n",
    "X_tests = Scaler.fit_transform(X_test)"
   ]
  },
  {
   "cell_type": "markdown",
   "metadata": {},
   "source": []
  },
  {
   "cell_type": "code",
   "execution_count": 64,
   "metadata": {},
   "outputs": [],
   "source": [
    "from sklearn.decomposition import PCA"
   ]
  },
  {
   "cell_type": "code",
   "execution_count": 65,
   "metadata": {},
   "outputs": [
    {
     "data": {
      "text/html": [
       "<div>\n",
       "<style scoped>\n",
       "    .dataframe tbody tr th:only-of-type {\n",
       "        vertical-align: middle;\n",
       "    }\n",
       "\n",
       "    .dataframe tbody tr th {\n",
       "        vertical-align: top;\n",
       "    }\n",
       "\n",
       "    .dataframe thead th {\n",
       "        text-align: right;\n",
       "    }\n",
       "</style>\n",
       "<table border=\"1\" class=\"dataframe\">\n",
       "  <thead>\n",
       "    <tr style=\"text-align: right;\">\n",
       "      <th></th>\n",
       "      <th>0</th>\n",
       "      <th>1</th>\n",
       "      <th>2</th>\n",
       "      <th>3</th>\n",
       "      <th>4</th>\n",
       "      <th>5</th>\n",
       "      <th>6</th>\n",
       "      <th>7</th>\n",
       "      <th>8</th>\n",
       "      <th>9</th>\n",
       "      <th>...</th>\n",
       "      <th>12</th>\n",
       "      <th>13</th>\n",
       "      <th>14</th>\n",
       "      <th>15</th>\n",
       "      <th>16</th>\n",
       "      <th>17</th>\n",
       "      <th>18</th>\n",
       "      <th>19</th>\n",
       "      <th>20</th>\n",
       "      <th>21</th>\n",
       "    </tr>\n",
       "  </thead>\n",
       "  <tbody>\n",
       "    <tr>\n",
       "      <th>0</th>\n",
       "      <td>-1.286449</td>\n",
       "      <td>0.804481</td>\n",
       "      <td>0.384984</td>\n",
       "      <td>-0.345823</td>\n",
       "      <td>3.712751</td>\n",
       "      <td>0.697121</td>\n",
       "      <td>0.403432</td>\n",
       "      <td>-0.942480</td>\n",
       "      <td>-0.615804</td>\n",
       "      <td>1.780729</td>\n",
       "      <td>...</td>\n",
       "      <td>0.349104</td>\n",
       "      <td>-0.331070</td>\n",
       "      <td>0.248910</td>\n",
       "      <td>0.644029</td>\n",
       "      <td>0.665912</td>\n",
       "      <td>0.147831</td>\n",
       "      <td>-0.489414</td>\n",
       "      <td>-0.597100</td>\n",
       "      <td>-0.138472</td>\n",
       "      <td>0.136580</td>\n",
       "    </tr>\n",
       "    <tr>\n",
       "      <th>1</th>\n",
       "      <td>3.083860</td>\n",
       "      <td>-0.785387</td>\n",
       "      <td>-1.683965</td>\n",
       "      <td>-0.098475</td>\n",
       "      <td>-2.261925</td>\n",
       "      <td>1.980150</td>\n",
       "      <td>0.972699</td>\n",
       "      <td>-0.994691</td>\n",
       "      <td>0.848401</td>\n",
       "      <td>0.417893</td>\n",
       "      <td>...</td>\n",
       "      <td>-0.982193</td>\n",
       "      <td>-0.745572</td>\n",
       "      <td>0.379323</td>\n",
       "      <td>0.776190</td>\n",
       "      <td>-0.946027</td>\n",
       "      <td>-0.239434</td>\n",
       "      <td>0.292780</td>\n",
       "      <td>0.414952</td>\n",
       "      <td>0.041965</td>\n",
       "      <td>-0.089794</td>\n",
       "    </tr>\n",
       "    <tr>\n",
       "      <th>2</th>\n",
       "      <td>-2.377369</td>\n",
       "      <td>1.877609</td>\n",
       "      <td>1.051205</td>\n",
       "      <td>-0.422384</td>\n",
       "      <td>-0.162350</td>\n",
       "      <td>0.478291</td>\n",
       "      <td>-1.014037</td>\n",
       "      <td>0.409373</td>\n",
       "      <td>-0.476621</td>\n",
       "      <td>0.699533</td>\n",
       "      <td>...</td>\n",
       "      <td>-0.026815</td>\n",
       "      <td>0.231260</td>\n",
       "      <td>-0.185226</td>\n",
       "      <td>-0.004461</td>\n",
       "      <td>0.333637</td>\n",
       "      <td>-0.446606</td>\n",
       "      <td>0.189542</td>\n",
       "      <td>-0.108885</td>\n",
       "      <td>0.079079</td>\n",
       "      <td>0.004074</td>\n",
       "    </tr>\n",
       "    <tr>\n",
       "      <th>3</th>\n",
       "      <td>1.531760</td>\n",
       "      <td>-2.305845</td>\n",
       "      <td>-0.958702</td>\n",
       "      <td>-0.046854</td>\n",
       "      <td>-0.994341</td>\n",
       "      <td>0.510036</td>\n",
       "      <td>0.450137</td>\n",
       "      <td>2.009534</td>\n",
       "      <td>1.084452</td>\n",
       "      <td>0.128943</td>\n",
       "      <td>...</td>\n",
       "      <td>-0.446895</td>\n",
       "      <td>-0.447002</td>\n",
       "      <td>-0.188391</td>\n",
       "      <td>0.749671</td>\n",
       "      <td>0.275779</td>\n",
       "      <td>-0.216380</td>\n",
       "      <td>0.141957</td>\n",
       "      <td>-0.963822</td>\n",
       "      <td>-0.169593</td>\n",
       "      <td>0.047466</td>\n",
       "    </tr>\n",
       "    <tr>\n",
       "      <th>4</th>\n",
       "      <td>-1.107126</td>\n",
       "      <td>-0.235398</td>\n",
       "      <td>0.903403</td>\n",
       "      <td>-0.396977</td>\n",
       "      <td>-0.883813</td>\n",
       "      <td>-0.598220</td>\n",
       "      <td>0.428831</td>\n",
       "      <td>-1.505462</td>\n",
       "      <td>0.540579</td>\n",
       "      <td>-0.963693</td>\n",
       "      <td>...</td>\n",
       "      <td>-0.515107</td>\n",
       "      <td>-0.232288</td>\n",
       "      <td>0.177732</td>\n",
       "      <td>-0.555849</td>\n",
       "      <td>-0.063541</td>\n",
       "      <td>-0.667534</td>\n",
       "      <td>-0.695802</td>\n",
       "      <td>0.125560</td>\n",
       "      <td>-0.230783</td>\n",
       "      <td>0.001776</td>\n",
       "    </tr>\n",
       "    <tr>\n",
       "      <th>...</th>\n",
       "      <td>...</td>\n",
       "      <td>...</td>\n",
       "      <td>...</td>\n",
       "      <td>...</td>\n",
       "      <td>...</td>\n",
       "      <td>...</td>\n",
       "      <td>...</td>\n",
       "      <td>...</td>\n",
       "      <td>...</td>\n",
       "      <td>...</td>\n",
       "      <td>...</td>\n",
       "      <td>...</td>\n",
       "      <td>...</td>\n",
       "      <td>...</td>\n",
       "      <td>...</td>\n",
       "      <td>...</td>\n",
       "      <td>...</td>\n",
       "      <td>...</td>\n",
       "      <td>...</td>\n",
       "      <td>...</td>\n",
       "      <td>...</td>\n",
       "    </tr>\n",
       "    <tr>\n",
       "      <th>103899</th>\n",
       "      <td>3.102249</td>\n",
       "      <td>0.693425</td>\n",
       "      <td>-0.609943</td>\n",
       "      <td>-0.525114</td>\n",
       "      <td>-0.675849</td>\n",
       "      <td>2.448708</td>\n",
       "      <td>-0.858485</td>\n",
       "      <td>0.358060</td>\n",
       "      <td>0.253047</td>\n",
       "      <td>-0.368391</td>\n",
       "      <td>...</td>\n",
       "      <td>-0.235631</td>\n",
       "      <td>0.402426</td>\n",
       "      <td>0.176664</td>\n",
       "      <td>-0.635910</td>\n",
       "      <td>0.009891</td>\n",
       "      <td>0.017892</td>\n",
       "      <td>0.002431</td>\n",
       "      <td>-0.058502</td>\n",
       "      <td>-0.064154</td>\n",
       "      <td>0.069139</td>\n",
       "    </tr>\n",
       "    <tr>\n",
       "      <th>103900</th>\n",
       "      <td>-3.425558</td>\n",
       "      <td>-0.794561</td>\n",
       "      <td>-1.555232</td>\n",
       "      <td>-0.199604</td>\n",
       "      <td>-0.707560</td>\n",
       "      <td>-0.865605</td>\n",
       "      <td>0.791090</td>\n",
       "      <td>-0.241464</td>\n",
       "      <td>-0.559943</td>\n",
       "      <td>-0.453853</td>\n",
       "      <td>...</td>\n",
       "      <td>-0.080741</td>\n",
       "      <td>0.514276</td>\n",
       "      <td>0.725429</td>\n",
       "      <td>0.043961</td>\n",
       "      <td>0.281445</td>\n",
       "      <td>0.938605</td>\n",
       "      <td>-0.182375</td>\n",
       "      <td>-0.035229</td>\n",
       "      <td>0.306888</td>\n",
       "      <td>-0.003404</td>\n",
       "    </tr>\n",
       "    <tr>\n",
       "      <th>103901</th>\n",
       "      <td>-0.363269</td>\n",
       "      <td>2.886363</td>\n",
       "      <td>-0.254131</td>\n",
       "      <td>-0.001808</td>\n",
       "      <td>-0.470731</td>\n",
       "      <td>1.679120</td>\n",
       "      <td>1.260634</td>\n",
       "      <td>0.630149</td>\n",
       "      <td>-2.099395</td>\n",
       "      <td>-1.179765</td>\n",
       "      <td>...</td>\n",
       "      <td>-0.567076</td>\n",
       "      <td>0.071382</td>\n",
       "      <td>0.040576</td>\n",
       "      <td>0.620637</td>\n",
       "      <td>-0.651490</td>\n",
       "      <td>0.657465</td>\n",
       "      <td>-0.777161</td>\n",
       "      <td>-0.074007</td>\n",
       "      <td>-0.026514</td>\n",
       "      <td>-0.130430</td>\n",
       "    </tr>\n",
       "    <tr>\n",
       "      <th>103902</th>\n",
       "      <td>3.516914</td>\n",
       "      <td>0.632844</td>\n",
       "      <td>-2.280746</td>\n",
       "      <td>-0.374499</td>\n",
       "      <td>-1.303677</td>\n",
       "      <td>1.441407</td>\n",
       "      <td>-0.797207</td>\n",
       "      <td>0.956015</td>\n",
       "      <td>-1.192297</td>\n",
       "      <td>-1.130947</td>\n",
       "      <td>...</td>\n",
       "      <td>1.275297</td>\n",
       "      <td>1.931303</td>\n",
       "      <td>0.012206</td>\n",
       "      <td>1.424639</td>\n",
       "      <td>-0.406046</td>\n",
       "      <td>-0.579683</td>\n",
       "      <td>0.235889</td>\n",
       "      <td>0.369533</td>\n",
       "      <td>-0.056799</td>\n",
       "      <td>0.010027</td>\n",
       "    </tr>\n",
       "    <tr>\n",
       "      <th>103903</th>\n",
       "      <td>3.573515</td>\n",
       "      <td>-0.238298</td>\n",
       "      <td>-1.028249</td>\n",
       "      <td>-0.389201</td>\n",
       "      <td>-1.816333</td>\n",
       "      <td>-0.638114</td>\n",
       "      <td>1.262678</td>\n",
       "      <td>0.533523</td>\n",
       "      <td>-1.891864</td>\n",
       "      <td>0.079259</td>\n",
       "      <td>...</td>\n",
       "      <td>-1.221403</td>\n",
       "      <td>-0.362076</td>\n",
       "      <td>-0.904930</td>\n",
       "      <td>-0.330878</td>\n",
       "      <td>0.854047</td>\n",
       "      <td>0.554674</td>\n",
       "      <td>-0.063338</td>\n",
       "      <td>-0.641773</td>\n",
       "      <td>0.232879</td>\n",
       "      <td>0.007952</td>\n",
       "    </tr>\n",
       "  </tbody>\n",
       "</table>\n",
       "<p>103904 rows × 22 columns</p>\n",
       "</div>"
      ],
      "text/plain": [
       "              0         1         2         3         4         5         6   \\\n",
       "0      -1.286449  0.804481  0.384984 -0.345823  3.712751  0.697121  0.403432   \n",
       "1       3.083860 -0.785387 -1.683965 -0.098475 -2.261925  1.980150  0.972699   \n",
       "2      -2.377369  1.877609  1.051205 -0.422384 -0.162350  0.478291 -1.014037   \n",
       "3       1.531760 -2.305845 -0.958702 -0.046854 -0.994341  0.510036  0.450137   \n",
       "4      -1.107126 -0.235398  0.903403 -0.396977 -0.883813 -0.598220  0.428831   \n",
       "...          ...       ...       ...       ...       ...       ...       ...   \n",
       "103899  3.102249  0.693425 -0.609943 -0.525114 -0.675849  2.448708 -0.858485   \n",
       "103900 -3.425558 -0.794561 -1.555232 -0.199604 -0.707560 -0.865605  0.791090   \n",
       "103901 -0.363269  2.886363 -0.254131 -0.001808 -0.470731  1.679120  1.260634   \n",
       "103902  3.516914  0.632844 -2.280746 -0.374499 -1.303677  1.441407 -0.797207   \n",
       "103903  3.573515 -0.238298 -1.028249 -0.389201 -1.816333 -0.638114  1.262678   \n",
       "\n",
       "              7         8         9   ...        12        13        14  \\\n",
       "0      -0.942480 -0.615804  1.780729  ...  0.349104 -0.331070  0.248910   \n",
       "1      -0.994691  0.848401  0.417893  ... -0.982193 -0.745572  0.379323   \n",
       "2       0.409373 -0.476621  0.699533  ... -0.026815  0.231260 -0.185226   \n",
       "3       2.009534  1.084452  0.128943  ... -0.446895 -0.447002 -0.188391   \n",
       "4      -1.505462  0.540579 -0.963693  ... -0.515107 -0.232288  0.177732   \n",
       "...          ...       ...       ...  ...       ...       ...       ...   \n",
       "103899  0.358060  0.253047 -0.368391  ... -0.235631  0.402426  0.176664   \n",
       "103900 -0.241464 -0.559943 -0.453853  ... -0.080741  0.514276  0.725429   \n",
       "103901  0.630149 -2.099395 -1.179765  ... -0.567076  0.071382  0.040576   \n",
       "103902  0.956015 -1.192297 -1.130947  ...  1.275297  1.931303  0.012206   \n",
       "103903  0.533523 -1.891864  0.079259  ... -1.221403 -0.362076 -0.904930   \n",
       "\n",
       "              15        16        17        18        19        20        21  \n",
       "0       0.644029  0.665912  0.147831 -0.489414 -0.597100 -0.138472  0.136580  \n",
       "1       0.776190 -0.946027 -0.239434  0.292780  0.414952  0.041965 -0.089794  \n",
       "2      -0.004461  0.333637 -0.446606  0.189542 -0.108885  0.079079  0.004074  \n",
       "3       0.749671  0.275779 -0.216380  0.141957 -0.963822 -0.169593  0.047466  \n",
       "4      -0.555849 -0.063541 -0.667534 -0.695802  0.125560 -0.230783  0.001776  \n",
       "...          ...       ...       ...       ...       ...       ...       ...  \n",
       "103899 -0.635910  0.009891  0.017892  0.002431 -0.058502 -0.064154  0.069139  \n",
       "103900  0.043961  0.281445  0.938605 -0.182375 -0.035229  0.306888 -0.003404  \n",
       "103901  0.620637 -0.651490  0.657465 -0.777161 -0.074007 -0.026514 -0.130430  \n",
       "103902  1.424639 -0.406046 -0.579683  0.235889  0.369533 -0.056799  0.010027  \n",
       "103903 -0.330878  0.854047  0.554674 -0.063338 -0.641773  0.232879  0.007952  \n",
       "\n",
       "[103904 rows x 22 columns]"
      ]
     },
     "execution_count": 65,
     "metadata": {},
     "output_type": "execute_result"
    }
   ],
   "source": [
    "pca = PCA()\n",
    "df_pca = pd.DataFrame(pca.fit_transform(X_trains))\n",
    "df_pca"
   ]
  },
  {
   "cell_type": "code",
   "execution_count": 66,
   "metadata": {},
   "outputs": [
    {
     "data": {
      "image/png": "[encoded data removed]",
      "text/plain": [
       "<Figure size 432x288 with 1 Axes>"
      ]
     },
     "metadata": {
      "needs_background": "light"
     },
     "output_type": "display_data"
    }
   ],
   "source": [
    "import matplotlib.pyplot as plt\n",
    "pd.DataFrame(pca.explained_variance_ratio_).plot.bar()\n",
    "plt.legend('')\n",
    "plt.xlabel('Principal Components')\n",
    "plt.ylabel('Explained Varience');"
   ]
  },
  {
   "cell_type": "code",
   "execution_count": 67,
   "metadata": {},
   "outputs": [
    {
     "data": {
      "text/plain": [
       "array([0.18476449, 0.10792789, 0.10017448, 0.08924708, 0.08144167,\n",
       "       0.06774459, 0.04633418, 0.04377913, 0.04282313, 0.03732121,\n",
       "       0.03148747, 0.02341693, 0.02189887, 0.02109171, 0.01915573,\n",
       "       0.01669128, 0.01604051, 0.01425113, 0.0133737 , 0.01115872,\n",
       "       0.00807087, 0.00180523])"
      ]
     },
     "execution_count": 67,
     "metadata": {},
     "output_type": "execute_result"
    }
   ],
   "source": [
    "pca.explained_variance_ratio_"
   ]
  },
  {
   "cell_type": "code",
   "execution_count": 68,
   "metadata": {},
   "outputs": [
    {
     "data": {
      "text/plain": [
       "0.80155785"
      ]
     },
     "execution_count": 68,
     "metadata": {},
     "output_type": "execute_result"
    }
   ],
   "source": [
    "\n",
    "0.18476449+ 0.10792789+0.10017448+ 0.08924708+0.08144167+ 0.06774459+ 0.04633418+0.04377913+ 0.04282313+ 0.03732121"
   ]
  },
  {
   "cell_type": "code",
   "execution_count": 69,
   "metadata": {},
   "outputs": [],
   "source": [
    "loading_scores = pd.Series(pca.components_[0], index=X_train.columns)"
   ]
  },
  {
   "cell_type": "code",
   "execution_count": 70,
   "metadata": {
    "scrolled": true
   },
   "outputs": [
    {
     "data": {
      "text/html": [
       "<style type=\"text/css\">\n",
       "#T_44550 th {\n",
       "  text-align: left;\n",
       "}\n",
       "#T_44550_row0_col0, #T_44550_row1_col0, #T_44550_row2_col0, #T_44550_row3_col0, #T_44550_row4_col0, #T_44550_row5_col0, #T_44550_row6_col0, #T_44550_row7_col0, #T_44550_row8_col0, #T_44550_row9_col0 {\n",
       "  text-align: center;\n",
       "}\n",
       "</style>\n",
       "<table id=\"T_44550\">\n",
       "  <thead>\n",
       "    <tr>\n",
       "      <th class=\"blank level0\" >&nbsp;</th>\n",
       "      <th id=\"T_44550_level0_col0\" class=\"col_heading level0 col0\" >Score</th>\n",
       "    </tr>\n",
       "  </thead>\n",
       "  <tbody>\n",
       "    <tr>\n",
       "      <th id=\"T_44550_level0_row0\" class=\"row_heading level0 row0\" >Inflight entertainment</th>\n",
       "      <td id=\"T_44550_row0_col0\" class=\"data row0 col0\" >-0.401114</td>\n",
       "    </tr>\n",
       "    <tr>\n",
       "      <th id=\"T_44550_level0_row1\" class=\"row_heading level0 row1\" >Seat comfort</th>\n",
       "      <td id=\"T_44550_row1_col0\" class=\"data row1 col0\" >-0.335774</td>\n",
       "    </tr>\n",
       "    <tr>\n",
       "      <th id=\"T_44550_level0_row2\" class=\"row_heading level0 row2\" >Cleanliness</th>\n",
       "      <td id=\"T_44550_row2_col0\" class=\"data row2 col0\" >-0.331070</td>\n",
       "    </tr>\n",
       "    <tr>\n",
       "      <th id=\"T_44550_level0_row3\" class=\"row_heading level0 row3\" >Online boarding</th>\n",
       "      <td id=\"T_44550_row3_col0\" class=\"data row3 col0\" >-0.294521</td>\n",
       "    </tr>\n",
       "    <tr>\n",
       "      <th id=\"T_44550_level0_row4\" class=\"row_heading level0 row4\" >Food and drink</th>\n",
       "      <td id=\"T_44550_row4_col0\" class=\"data row4 col0\" >-0.281105</td>\n",
       "    </tr>\n",
       "    <tr>\n",
       "      <th id=\"T_44550_level0_row5\" class=\"row_heading level0 row5\" >On-board service</th>\n",
       "      <td id=\"T_44550_row5_col0\" class=\"data row5 col0\" >-0.265157</td>\n",
       "    </tr>\n",
       "    <tr>\n",
       "      <th id=\"T_44550_level0_row6\" class=\"row_heading level0 row6\" >Inflight service</th>\n",
       "      <td id=\"T_44550_row6_col0\" class=\"data row6 col0\" >-0.243104</td>\n",
       "    </tr>\n",
       "    <tr>\n",
       "      <th id=\"T_44550_level0_row7\" class=\"row_heading level0 row7\" >Baggage handling</th>\n",
       "      <td id=\"T_44550_row7_col0\" class=\"data row7 col0\" >-0.240319</td>\n",
       "    </tr>\n",
       "    <tr>\n",
       "      <th id=\"T_44550_level0_row8\" class=\"row_heading level0 row8\" >Leg room service</th>\n",
       "      <td id=\"T_44550_row8_col0\" class=\"data row8 col0\" >-0.219738</td>\n",
       "    </tr>\n",
       "    <tr>\n",
       "      <th id=\"T_44550_level0_row9\" class=\"row_heading level0 row9\" >Class</th>\n",
       "      <td id=\"T_44550_row9_col0\" class=\"data row9 col0\" >0.214745</td>\n",
       "    </tr>\n",
       "  </tbody>\n",
       "</table>\n"
      ],
      "text/plain": [
       "<pandas.io.formats.style.Styler at 0x1d9003eb580>"
      ]
     },
     "execution_count": 70,
     "metadata": {},
     "output_type": "execute_result"
    }
   ],
   "source": [
    "loading_scores = pd.Series(pca.components_[0], index=X_train.columns)\n",
    "sorted_loading_scores = loading_scores.abs().sort_values(ascending=False)\n",
    "top_10_features = sorted_loading_scores[0:10].index.values\n",
    "top_features = pd.DataFrame(loading_scores[top_10_features], columns=['Score'])\n",
    "top_features.style.set_properties(**{'text-align': 'center'}).set_table_styles([dict(selector='th', props=[('text-align', 'left')])])"
   ]
  },
  {
   "cell_type": "markdown",
   "metadata": {},
   "source": [
    "### Best Parameter Tuning"
   ]
  },
  {
   "cell_type": "code",
   "execution_count": 71,
   "metadata": {},
   "outputs": [
    {
     "data": {
      "text/plain": [
       "{'n_estimators': [100, 200, 300, 400, 500, 600],\n",
       " 'max_features': [1, 2, 3, 4, 5, 6, 7, 8]}"
      ]
     },
     "execution_count": 71,
     "metadata": {},
     "output_type": "execute_result"
    }
   ],
   "source": [
    "clf=RandomForestClassifier(random_state=0)\n",
    "# number of trees in random forest\n",
    "n_estimators = [100,200,300,400,500,600]\n",
    "# number of features at every split\n",
    "max_features = [1,2,3,4,5,6,7,8]\n",
    "# create grid\n",
    "params = {\n",
    " 'n_estimators': n_estimators,\n",
    " 'max_features': max_features,\n",
    " }\n",
    "params"
   ]
  },
  {
   "cell_type": "markdown",
   "metadata": {},
   "source": [
    "Since we decided that by looking the AUC and F1 score the Random Forest is the best model to making prediction with this data set, we try to find best parameters of the model with the help of grid search approach."
   ]
  },
  {
   "cell_type": "code",
   "execution_count": 72,
   "metadata": {
    "scrolled": true
   },
   "outputs": [
    {
     "name": "stdout",
     "output_type": "stream",
     "text": [
      "Fitting 5 folds for each of 48 candidates, totalling 240 fits\n",
      "{'max_features': 8, 'n_estimators': 300}\n"
     ]
    }
   ],
   "source": [
    "# Grid search of parameters\n",
    "clf_grid = GridSearchCV(estimator = clf, param_grid = params, \n",
    "                                cv = 5, verbose=2, scoring='accuracy',n_jobs = -1)\n",
    "# Fit the model\n",
    "clf_grid.fit(X_train, y_train)\n",
    "# print results\n",
    "print(clf_grid.best_params_)"
   ]
  },
  {
   "cell_type": "markdown",
   "metadata": {},
   "source": [
    "It is determined that model with 300 estimator and 8 features gives the best solution. So we are seting up the model with these parameters again and trying to obtain best performance metrics."
   ]
  },
  {
   "cell_type": "code",
   "execution_count": 76,
   "metadata": {},
   "outputs": [
    {
     "name": "stdout",
     "output_type": "stream",
     "text": [
      "Test Accuracy: 0.9643517092700955\n",
      "AUC: 0.9621626945839247\n",
      "F1: 0.9587711487088156\n"
     ]
    }
   ],
   "source": [
    "clf=RandomForestClassifier(random_state=0,n_estimators=300,max_features=8,oob_score=True)\n",
    "clf.fit(X_train,y_train)\n",
    "y_pred=clf.predict(X_test)\n",
    "print('Test Accuracy:', accuracy_score(y_test, y_pred))\n",
    "print('AUC:', roc_auc_score(y_test, y_pred))\n",
    "print('F1:', f1_score(y_test, y_pred))"
   ]
  },
  {
   "cell_type": "markdown",
   "metadata": {},
   "source": [
    "As it seen that our selected best algorithm (Random Forest) gives the better performance with estimated best parameters."
   ]
  }
 ],
 "metadata": {
  "kernelspec": {
   "display_name": "Python 3 (ipykernel)",
   "language": "python",
   "name": "python3"
  },
  "language_info": {
   "codemirror_mode": {
    "name": "ipython",
    "version": 3
   },
   "file_extension": ".py",
   "mimetype": "text/x-python",
   "name": "python",
   "nbconvert_exporter": "python",
   "pygments_lexer": "ipython3",
   "version": "3.9.12"
  },
  "vscode": {
   "interpreter": {
    "hash": "ad2bdc8ecc057115af97d19610ffacc2b4e99fae6737bb82f5d7fb13d2f2c186"
   }
  }
 },
 "nbformat": 4,
 "nbformat_minor": 2
}
